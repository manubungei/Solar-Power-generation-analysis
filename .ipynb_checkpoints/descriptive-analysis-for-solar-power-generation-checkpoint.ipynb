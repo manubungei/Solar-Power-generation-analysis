{
 "cells": [
  {
   "cell_type": "markdown",
   "metadata": {
    "papermill": {
     "duration": 0.042475,
     "end_time": "2020-09-24T15:42:35.989240",
     "exception": false,
     "start_time": "2020-09-24T15:42:35.946765",
     "status": "completed"
    },
    "tags": []
   },
   "source": [
    "<h3>This notebook is regarding a task assosiate with the data used in this notebook</h3>\n",
    "\n",
    "**In this task we have to do some descriptive statistics based on following questions:**\n",
    "\n",
    "1. What is the mean value of daily yield?\n",
    "2. What is the total irradiation per day?\n",
    "3. What is the max ambient and module temperature?\n",
    "4. How many inverters are there for each plant?\n",
    "5. What is the maximum/minimum amount of DC/AC Power generated in a time interval/day?\n",
    "6. Which inverter (source_key) has produced maximum DC/AC power?\n",
    "7. Rank the inverters based on the DC/AC power they produce\n",
    "8. Is there any missing data?\n",
    "\n",
    "**You can more learn more about this task @** https://www.kaggle.com/anikannal/solar-power-generation-data/tasks?taskId=1749"
   ]
  },
  {
   "cell_type": "code",
   "execution_count": 5,
   "metadata": {
    "execution": {
     "iopub.execute_input": "2020-09-24T15:42:36.074760Z",
     "iopub.status.busy": "2020-09-24T15:42:36.073646Z",
     "iopub.status.idle": "2020-09-24T15:42:36.077092Z",
     "shell.execute_reply": "2020-09-24T15:42:36.076311Z"
    },
    "papermill": {
     "duration": 0.04796,
     "end_time": "2020-09-24T15:42:36.077213",
     "exception": false,
     "start_time": "2020-09-24T15:42:36.029253",
     "status": "completed"
    },
    "tags": []
   },
   "outputs": [],
   "source": [
    "import warnings\n",
    "warnings.filterwarnings('ignore')"
   ]
  },
  {
   "cell_type": "code",
   "execution_count": 6,
   "metadata": {
    "execution": {
     "iopub.execute_input": "2020-09-24T15:42:36.165497Z",
     "iopub.status.busy": "2020-09-24T15:42:36.164585Z",
     "iopub.status.idle": "2020-09-24T15:42:37.170503Z",
     "shell.execute_reply": "2020-09-24T15:42:37.169772Z"
    },
    "papermill": {
     "duration": 1.052957,
     "end_time": "2020-09-24T15:42:37.170627",
     "exception": false,
     "start_time": "2020-09-24T15:42:36.117670",
     "status": "completed"
    },
    "tags": []
   },
   "outputs": [],
   "source": [
    "import numpy as np\n",
    "import pandas as pd\n",
    "import seaborn as sns\n",
    "import matplotlib.pyplot as plt\n",
    "%matplotlib inline"
   ]
  },
  {
   "cell_type": "code",
   "execution_count": null,
   "metadata": {
    "_cell_guid": "b1076dfc-b9ad-4769-8c92-a6c4dae69d19",
    "_uuid": "8f2839f25d086af736a60e9eeb907d3b93b6e0e5",
    "execution": {
     "iopub.execute_input": "2020-09-24T15:42:37.260079Z",
     "iopub.status.busy": "2020-09-24T15:42:37.259328Z",
     "iopub.status.idle": "2020-09-24T15:42:37.268734Z",
     "shell.execute_reply": "2020-09-24T15:42:37.267951Z"
    },
    "papermill": {
     "duration": 0.057687,
     "end_time": "2020-09-24T15:42:37.268897",
     "exception": false,
     "start_time": "2020-09-24T15:42:37.211210",
     "status": "completed"
    },
    "tags": []
   },
   "outputs": [],
   "source": []
  },
  {
   "cell_type": "code",
   "execution_count": 7,
   "metadata": {
    "_cell_guid": "79c7e3d0-c299-4dcb-8224-4455121ee9b0",
    "_uuid": "d629ff2d2480ee46fbb7e2d37f6b5fab8052498a",
    "execution": {
     "iopub.execute_input": "2020-09-24T15:42:37.360574Z",
     "iopub.status.busy": "2020-09-24T15:42:37.359819Z",
     "iopub.status.idle": "2020-09-24T15:42:37.611076Z",
     "shell.execute_reply": "2020-09-24T15:42:37.610379Z"
    },
    "papermill": {
     "duration": 0.300889,
     "end_time": "2020-09-24T15:42:37.611206",
     "exception": false,
     "start_time": "2020-09-24T15:42:37.310317",
     "status": "completed"
    },
    "tags": []
   },
   "outputs": [
    {
     "ename": "FileNotFoundError",
     "evalue": "[Errno 2] No such file or directory: 'Plant_1_Weather_Sensor_Data'",
     "output_type": "error",
     "traceback": [
      "\u001b[0;31m---------------------------------------------------------------------------\u001b[0m",
      "\u001b[0;31mFileNotFoundError\u001b[0m                         Traceback (most recent call last)",
      "\u001b[0;32m<ipython-input-7-7533fc2d6942>\u001b[0m in \u001b[0;36m<module>\u001b[0;34m\u001b[0m\n\u001b[0;32m----> 1\u001b[0;31m \u001b[0mplant_1_sensor\u001b[0m \u001b[0;34m=\u001b[0m \u001b[0mpd\u001b[0m\u001b[0;34m.\u001b[0m\u001b[0mread_csv\u001b[0m\u001b[0;34m(\u001b[0m\u001b[0;34m\"Plant_1_Weather_Sensor_Data\"\u001b[0m\u001b[0;34m)\u001b[0m\u001b[0;34m\u001b[0m\u001b[0;34m\u001b[0m\u001b[0m\n\u001b[0m\u001b[1;32m      2\u001b[0m \u001b[0mplant_2_sensor\u001b[0m \u001b[0;34m=\u001b[0m \u001b[0mpd\u001b[0m\u001b[0;34m.\u001b[0m\u001b[0mread_csv\u001b[0m\u001b[0;34m(\u001b[0m\u001b[0;34m\"Plant_2_Weather_Sensor_Data.csv\"\u001b[0m\u001b[0;34m)\u001b[0m\u001b[0;34m\u001b[0m\u001b[0;34m\u001b[0m\u001b[0m\n\u001b[1;32m      3\u001b[0m \u001b[0mplant_1_generation\u001b[0m \u001b[0;34m=\u001b[0m \u001b[0mpd\u001b[0m\u001b[0;34m.\u001b[0m\u001b[0mread_csv\u001b[0m\u001b[0;34m(\u001b[0m\u001b[0;34m\"Plant_1_Generation_Data.csv\"\u001b[0m\u001b[0;34m)\u001b[0m\u001b[0;34m\u001b[0m\u001b[0;34m\u001b[0m\u001b[0m\n\u001b[1;32m      4\u001b[0m \u001b[0mplant_2_generation\u001b[0m \u001b[0;34m=\u001b[0m \u001b[0mpd\u001b[0m\u001b[0;34m.\u001b[0m\u001b[0mread_csv\u001b[0m\u001b[0;34m(\u001b[0m\u001b[0;34m\"Plant_2_Generation_Data.csv\"\u001b[0m\u001b[0;34m)\u001b[0m\u001b[0;34m\u001b[0m\u001b[0;34m\u001b[0m\u001b[0m\n",
      "\u001b[0;32m~/anaconda3/lib/python3.7/site-packages/pandas/io/parsers.py\u001b[0m in \u001b[0;36mread_csv\u001b[0;34m(filepath_or_buffer, sep, delimiter, header, names, index_col, usecols, squeeze, prefix, mangle_dupe_cols, dtype, engine, converters, true_values, false_values, skipinitialspace, skiprows, skipfooter, nrows, na_values, keep_default_na, na_filter, verbose, skip_blank_lines, parse_dates, infer_datetime_format, keep_date_col, date_parser, dayfirst, cache_dates, iterator, chunksize, compression, thousands, decimal, lineterminator, quotechar, quoting, doublequote, escapechar, comment, encoding, dialect, error_bad_lines, warn_bad_lines, delim_whitespace, low_memory, memory_map, float_precision)\u001b[0m\n\u001b[1;32m    684\u001b[0m     )\n\u001b[1;32m    685\u001b[0m \u001b[0;34m\u001b[0m\u001b[0m\n\u001b[0;32m--> 686\u001b[0;31m     \u001b[0;32mreturn\u001b[0m \u001b[0m_read\u001b[0m\u001b[0;34m(\u001b[0m\u001b[0mfilepath_or_buffer\u001b[0m\u001b[0;34m,\u001b[0m \u001b[0mkwds\u001b[0m\u001b[0;34m)\u001b[0m\u001b[0;34m\u001b[0m\u001b[0;34m\u001b[0m\u001b[0m\n\u001b[0m\u001b[1;32m    687\u001b[0m \u001b[0;34m\u001b[0m\u001b[0m\n\u001b[1;32m    688\u001b[0m \u001b[0;34m\u001b[0m\u001b[0m\n",
      "\u001b[0;32m~/anaconda3/lib/python3.7/site-packages/pandas/io/parsers.py\u001b[0m in \u001b[0;36m_read\u001b[0;34m(filepath_or_buffer, kwds)\u001b[0m\n\u001b[1;32m    450\u001b[0m \u001b[0;34m\u001b[0m\u001b[0m\n\u001b[1;32m    451\u001b[0m     \u001b[0;31m# Create the parser.\u001b[0m\u001b[0;34m\u001b[0m\u001b[0;34m\u001b[0m\u001b[0;34m\u001b[0m\u001b[0m\n\u001b[0;32m--> 452\u001b[0;31m     \u001b[0mparser\u001b[0m \u001b[0;34m=\u001b[0m \u001b[0mTextFileReader\u001b[0m\u001b[0;34m(\u001b[0m\u001b[0mfp_or_buf\u001b[0m\u001b[0;34m,\u001b[0m \u001b[0;34m**\u001b[0m\u001b[0mkwds\u001b[0m\u001b[0;34m)\u001b[0m\u001b[0;34m\u001b[0m\u001b[0;34m\u001b[0m\u001b[0m\n\u001b[0m\u001b[1;32m    453\u001b[0m \u001b[0;34m\u001b[0m\u001b[0m\n\u001b[1;32m    454\u001b[0m     \u001b[0;32mif\u001b[0m \u001b[0mchunksize\u001b[0m \u001b[0;32mor\u001b[0m \u001b[0miterator\u001b[0m\u001b[0;34m:\u001b[0m\u001b[0;34m\u001b[0m\u001b[0;34m\u001b[0m\u001b[0m\n",
      "\u001b[0;32m~/anaconda3/lib/python3.7/site-packages/pandas/io/parsers.py\u001b[0m in \u001b[0;36m__init__\u001b[0;34m(self, f, engine, **kwds)\u001b[0m\n\u001b[1;32m    934\u001b[0m             \u001b[0mself\u001b[0m\u001b[0;34m.\u001b[0m\u001b[0moptions\u001b[0m\u001b[0;34m[\u001b[0m\u001b[0;34m\"has_index_names\"\u001b[0m\u001b[0;34m]\u001b[0m \u001b[0;34m=\u001b[0m \u001b[0mkwds\u001b[0m\u001b[0;34m[\u001b[0m\u001b[0;34m\"has_index_names\"\u001b[0m\u001b[0;34m]\u001b[0m\u001b[0;34m\u001b[0m\u001b[0;34m\u001b[0m\u001b[0m\n\u001b[1;32m    935\u001b[0m \u001b[0;34m\u001b[0m\u001b[0m\n\u001b[0;32m--> 936\u001b[0;31m         \u001b[0mself\u001b[0m\u001b[0;34m.\u001b[0m\u001b[0m_make_engine\u001b[0m\u001b[0;34m(\u001b[0m\u001b[0mself\u001b[0m\u001b[0;34m.\u001b[0m\u001b[0mengine\u001b[0m\u001b[0;34m)\u001b[0m\u001b[0;34m\u001b[0m\u001b[0;34m\u001b[0m\u001b[0m\n\u001b[0m\u001b[1;32m    937\u001b[0m \u001b[0;34m\u001b[0m\u001b[0m\n\u001b[1;32m    938\u001b[0m     \u001b[0;32mdef\u001b[0m \u001b[0mclose\u001b[0m\u001b[0;34m(\u001b[0m\u001b[0mself\u001b[0m\u001b[0;34m)\u001b[0m\u001b[0;34m:\u001b[0m\u001b[0;34m\u001b[0m\u001b[0;34m\u001b[0m\u001b[0m\n",
      "\u001b[0;32m~/anaconda3/lib/python3.7/site-packages/pandas/io/parsers.py\u001b[0m in \u001b[0;36m_make_engine\u001b[0;34m(self, engine)\u001b[0m\n\u001b[1;32m   1166\u001b[0m     \u001b[0;32mdef\u001b[0m \u001b[0m_make_engine\u001b[0m\u001b[0;34m(\u001b[0m\u001b[0mself\u001b[0m\u001b[0;34m,\u001b[0m \u001b[0mengine\u001b[0m\u001b[0;34m=\u001b[0m\u001b[0;34m\"c\"\u001b[0m\u001b[0;34m)\u001b[0m\u001b[0;34m:\u001b[0m\u001b[0;34m\u001b[0m\u001b[0;34m\u001b[0m\u001b[0m\n\u001b[1;32m   1167\u001b[0m         \u001b[0;32mif\u001b[0m \u001b[0mengine\u001b[0m \u001b[0;34m==\u001b[0m \u001b[0;34m\"c\"\u001b[0m\u001b[0;34m:\u001b[0m\u001b[0;34m\u001b[0m\u001b[0;34m\u001b[0m\u001b[0m\n\u001b[0;32m-> 1168\u001b[0;31m             \u001b[0mself\u001b[0m\u001b[0;34m.\u001b[0m\u001b[0m_engine\u001b[0m \u001b[0;34m=\u001b[0m \u001b[0mCParserWrapper\u001b[0m\u001b[0;34m(\u001b[0m\u001b[0mself\u001b[0m\u001b[0;34m.\u001b[0m\u001b[0mf\u001b[0m\u001b[0;34m,\u001b[0m \u001b[0;34m**\u001b[0m\u001b[0mself\u001b[0m\u001b[0;34m.\u001b[0m\u001b[0moptions\u001b[0m\u001b[0;34m)\u001b[0m\u001b[0;34m\u001b[0m\u001b[0;34m\u001b[0m\u001b[0m\n\u001b[0m\u001b[1;32m   1169\u001b[0m         \u001b[0;32melse\u001b[0m\u001b[0;34m:\u001b[0m\u001b[0;34m\u001b[0m\u001b[0;34m\u001b[0m\u001b[0m\n\u001b[1;32m   1170\u001b[0m             \u001b[0;32mif\u001b[0m \u001b[0mengine\u001b[0m \u001b[0;34m==\u001b[0m \u001b[0;34m\"python\"\u001b[0m\u001b[0;34m:\u001b[0m\u001b[0;34m\u001b[0m\u001b[0;34m\u001b[0m\u001b[0m\n",
      "\u001b[0;32m~/anaconda3/lib/python3.7/site-packages/pandas/io/parsers.py\u001b[0m in \u001b[0;36m__init__\u001b[0;34m(self, src, **kwds)\u001b[0m\n\u001b[1;32m   1996\u001b[0m         \u001b[0mkwds\u001b[0m\u001b[0;34m[\u001b[0m\u001b[0;34m\"usecols\"\u001b[0m\u001b[0;34m]\u001b[0m \u001b[0;34m=\u001b[0m \u001b[0mself\u001b[0m\u001b[0;34m.\u001b[0m\u001b[0musecols\u001b[0m\u001b[0;34m\u001b[0m\u001b[0;34m\u001b[0m\u001b[0m\n\u001b[1;32m   1997\u001b[0m \u001b[0;34m\u001b[0m\u001b[0m\n\u001b[0;32m-> 1998\u001b[0;31m         \u001b[0mself\u001b[0m\u001b[0;34m.\u001b[0m\u001b[0m_reader\u001b[0m \u001b[0;34m=\u001b[0m \u001b[0mparsers\u001b[0m\u001b[0;34m.\u001b[0m\u001b[0mTextReader\u001b[0m\u001b[0;34m(\u001b[0m\u001b[0msrc\u001b[0m\u001b[0;34m,\u001b[0m \u001b[0;34m**\u001b[0m\u001b[0mkwds\u001b[0m\u001b[0;34m)\u001b[0m\u001b[0;34m\u001b[0m\u001b[0;34m\u001b[0m\u001b[0m\n\u001b[0m\u001b[1;32m   1999\u001b[0m         \u001b[0mself\u001b[0m\u001b[0;34m.\u001b[0m\u001b[0munnamed_cols\u001b[0m \u001b[0;34m=\u001b[0m \u001b[0mself\u001b[0m\u001b[0;34m.\u001b[0m\u001b[0m_reader\u001b[0m\u001b[0;34m.\u001b[0m\u001b[0munnamed_cols\u001b[0m\u001b[0;34m\u001b[0m\u001b[0;34m\u001b[0m\u001b[0m\n\u001b[1;32m   2000\u001b[0m \u001b[0;34m\u001b[0m\u001b[0m\n",
      "\u001b[0;32mpandas/_libs/parsers.pyx\u001b[0m in \u001b[0;36mpandas._libs.parsers.TextReader.__cinit__\u001b[0;34m()\u001b[0m\n",
      "\u001b[0;32mpandas/_libs/parsers.pyx\u001b[0m in \u001b[0;36mpandas._libs.parsers.TextReader._setup_parser_source\u001b[0;34m()\u001b[0m\n",
      "\u001b[0;31mFileNotFoundError\u001b[0m: [Errno 2] No such file or directory: 'Plant_1_Weather_Sensor_Data'"
     ]
    }
   ],
   "source": [
    "plant_1_sensor = pd.read_csv(\"Plant_1_Weather_Sensor_Data\")\n",
    "plant_2_sensor = pd.read_csv(\"Plant_2_Weather_Sensor_Data.csv\")\n",
    "plant_1_generation = pd.read_csv(\"Plant_1_Generation_Data.csv\")\n",
    "plant_2_generation = pd.read_csv(\"Plant_2_Generation_Data.csv\")"
   ]
  },
  {
   "cell_type": "code",
   "execution_count": null,
   "metadata": {
    "execution": {
     "iopub.execute_input": "2020-09-24T15:42:37.699148Z",
     "iopub.status.busy": "2020-09-24T15:42:37.698120Z",
     "iopub.status.idle": "2020-09-24T15:42:37.702826Z",
     "shell.execute_reply": "2020-09-24T15:42:37.702085Z"
    },
    "papermill": {
     "duration": 0.050964,
     "end_time": "2020-09-24T15:42:37.702998",
     "exception": false,
     "start_time": "2020-09-24T15:42:37.652034",
     "status": "completed"
    },
    "tags": []
   },
   "outputs": [],
   "source": [
    "print(plant_1_sensor.shape,plant_1_generation.shape,plant_2_sensor.shape,plant_2_generation.shape)"
   ]
  },
  {
   "cell_type": "code",
   "execution_count": null,
   "metadata": {
    "execution": {
     "iopub.execute_input": "2020-09-24T15:42:37.802074Z",
     "iopub.status.busy": "2020-09-24T15:42:37.801005Z",
     "iopub.status.idle": "2020-09-24T15:42:37.812015Z",
     "shell.execute_reply": "2020-09-24T15:42:37.811387Z"
    },
    "papermill": {
     "duration": 0.067074,
     "end_time": "2020-09-24T15:42:37.812135",
     "exception": false,
     "start_time": "2020-09-24T15:42:37.745061",
     "status": "completed"
    },
    "tags": []
   },
   "outputs": [],
   "source": [
    "plant_1_sensor.head()"
   ]
  },
  {
   "cell_type": "code",
   "execution_count": null,
   "metadata": {
    "execution": {
     "iopub.execute_input": "2020-09-24T15:42:37.911044Z",
     "iopub.status.busy": "2020-09-24T15:42:37.910160Z",
     "iopub.status.idle": "2020-09-24T15:42:37.915105Z",
     "shell.execute_reply": "2020-09-24T15:42:37.914353Z"
    },
    "papermill": {
     "duration": 0.061219,
     "end_time": "2020-09-24T15:42:37.915233",
     "exception": false,
     "start_time": "2020-09-24T15:42:37.854014",
     "status": "completed"
    },
    "tags": []
   },
   "outputs": [],
   "source": [
    "plant_1_generation.head()"
   ]
  },
  {
   "cell_type": "code",
   "execution_count": null,
   "metadata": {
    "execution": {
     "iopub.execute_input": "2020-09-24T15:42:38.014997Z",
     "iopub.status.busy": "2020-09-24T15:42:38.010312Z",
     "iopub.status.idle": "2020-09-24T15:42:38.019358Z",
     "shell.execute_reply": "2020-09-24T15:42:38.018613Z"
    },
    "papermill": {
     "duration": 0.061321,
     "end_time": "2020-09-24T15:42:38.019477",
     "exception": false,
     "start_time": "2020-09-24T15:42:37.958156",
     "status": "completed"
    },
    "tags": []
   },
   "outputs": [],
   "source": [
    "plant_2_sensor.head()"
   ]
  },
  {
   "cell_type": "code",
   "execution_count": null,
   "metadata": {
    "execution": {
     "iopub.execute_input": "2020-09-24T15:42:38.114244Z",
     "iopub.status.busy": "2020-09-24T15:42:38.113488Z",
     "iopub.status.idle": "2020-09-24T15:42:38.154992Z",
     "shell.execute_reply": "2020-09-24T15:42:38.154365Z"
    },
    "papermill": {
     "duration": 0.09194,
     "end_time": "2020-09-24T15:42:38.155113",
     "exception": false,
     "start_time": "2020-09-24T15:42:38.063173",
     "status": "completed"
    },
    "tags": []
   },
   "outputs": [],
   "source": [
    "plant_2_generation[plant_2_generation.DC_POWER > 1000]"
   ]
  },
  {
   "cell_type": "markdown",
   "metadata": {
    "papermill": {
     "duration": 0.044204,
     "end_time": "2020-09-24T15:42:38.243785",
     "exception": false,
     "start_time": "2020-09-24T15:42:38.199581",
     "status": "completed"
    },
    "tags": []
   },
   "source": [
    "**Checking percentage of unique values in all 4 datasets**"
   ]
  },
  {
   "cell_type": "code",
   "execution_count": null,
   "metadata": {
    "execution": {
     "iopub.execute_input": "2020-09-24T15:42:38.342908Z",
     "iopub.status.busy": "2020-09-24T15:42:38.342188Z",
     "iopub.status.idle": "2020-09-24T15:42:38.413055Z",
     "shell.execute_reply": "2020-09-24T15:42:38.412214Z"
    },
    "papermill": {
     "duration": 0.124255,
     "end_time": "2020-09-24T15:42:38.413225",
     "exception": false,
     "start_time": "2020-09-24T15:42:38.288970",
     "status": "completed"
    },
    "tags": []
   },
   "outputs": [],
   "source": [
    "print(\"*******************Plant_1_Sensor*****************\")\n",
    "print(plant_1_sensor.nunique()/plant_1_sensor.shape[0]*100)\n",
    "print(\"*******************Plant_1_Generation*****************\")\n",
    "print(plant_1_generation.nunique()/plant_1_generation.shape[0]*100)\n",
    "print(\"*******************Plant_2_Sensor*****************\")\n",
    "print(plant_2_sensor.nunique()/plant_2_sensor.shape[0]*100)\n",
    "print(\"*******************Plant_2_Generation*****************\")\n",
    "print(plant_2_generation.nunique()/plant_2_generation.shape[0]*100)"
   ]
  },
  {
   "cell_type": "code",
   "execution_count": null,
   "metadata": {
    "execution": {
     "iopub.execute_input": "2020-09-24T15:42:38.521467Z",
     "iopub.status.busy": "2020-09-24T15:42:38.520477Z",
     "iopub.status.idle": "2020-09-24T15:42:38.579776Z",
     "shell.execute_reply": "2020-09-24T15:42:38.580378Z"
    },
    "papermill": {
     "duration": 0.120508,
     "end_time": "2020-09-24T15:42:38.580556",
     "exception": false,
     "start_time": "2020-09-24T15:42:38.460048",
     "status": "completed"
    },
    "tags": []
   },
   "outputs": [],
   "source": [
    "print(plant_1_sensor.info())\n",
    "print(plant_1_generation.info())\n",
    "print(plant_2_sensor.info())\n",
    "print(plant_2_generation.info())"
   ]
  },
  {
   "cell_type": "markdown",
   "metadata": {
    "papermill": {
     "duration": 0.046027,
     "end_time": "2020-09-24T15:42:38.672855",
     "exception": false,
     "start_time": "2020-09-24T15:42:38.626828",
     "status": "completed"
    },
    "tags": []
   },
   "source": [
    "**In the next few lines we will work with datetime**"
   ]
  },
  {
   "cell_type": "code",
   "execution_count": null,
   "metadata": {
    "execution": {
     "iopub.execute_input": "2020-09-24T15:42:38.772018Z",
     "iopub.status.busy": "2020-09-24T15:42:38.771164Z",
     "iopub.status.idle": "2020-09-24T15:42:38.773739Z",
     "shell.execute_reply": "2020-09-24T15:42:38.774290Z"
    },
    "papermill": {
     "duration": 0.054149,
     "end_time": "2020-09-24T15:42:38.774442",
     "exception": false,
     "start_time": "2020-09-24T15:42:38.720293",
     "status": "completed"
    },
    "tags": []
   },
   "outputs": [],
   "source": [
    "from datetime import datetime"
   ]
  },
  {
   "cell_type": "markdown",
   "metadata": {
    "papermill": {
     "duration": 0.045734,
     "end_time": "2020-09-24T15:42:38.866551",
     "exception": false,
     "start_time": "2020-09-24T15:42:38.820817",
     "status": "completed"
    },
    "tags": []
   },
   "source": [
    "**In our dataset `DATE_TIME` is of object type. So we will convert it to datetime type. We will also extract date part from timestamp data.**\n",
    "\n",
    "**cell 14 to cell 17**"
   ]
  },
  {
   "cell_type": "code",
   "execution_count": null,
   "metadata": {
    "execution": {
     "iopub.execute_input": "2020-09-24T15:42:38.971427Z",
     "iopub.status.busy": "2020-09-24T15:42:38.970676Z",
     "iopub.status.idle": "2020-09-24T15:42:39.956374Z",
     "shell.execute_reply": "2020-09-24T15:42:39.955580Z"
    },
    "papermill": {
     "duration": 1.043648,
     "end_time": "2020-09-24T15:42:39.956497",
     "exception": false,
     "start_time": "2020-09-24T15:42:38.912849",
     "status": "completed"
    },
    "tags": []
   },
   "outputs": [],
   "source": [
    "plant_1_generation['DATE'] = [datetime.strftime(i,format=\"%d-%m-%Y\") for i in pd.to_datetime(plant_1_generation.DATE_TIME)]\n",
    "plant_1_generation['DATE'] = pd.to_datetime(plant_1_generation['DATE'])"
   ]
  },
  {
   "cell_type": "code",
   "execution_count": null,
   "metadata": {
    "execution": {
     "iopub.execute_input": "2020-09-24T15:42:40.064122Z",
     "iopub.status.busy": "2020-09-24T15:42:40.063154Z",
     "iopub.status.idle": "2020-09-24T15:42:40.587692Z",
     "shell.execute_reply": "2020-09-24T15:42:40.587004Z"
    },
    "papermill": {
     "duration": 0.583747,
     "end_time": "2020-09-24T15:42:40.587813",
     "exception": false,
     "start_time": "2020-09-24T15:42:40.004066",
     "status": "completed"
    },
    "tags": []
   },
   "outputs": [],
   "source": [
    "plant_2_generation['DATE'] = [datetime.strftime(i,format=\"%Y-%m-%d\") for i in pd.to_datetime(plant_2_generation.DATE_TIME)]\n",
    "plant_2_generation['DATE'] = pd.to_datetime(plant_2_generation['DATE'])"
   ]
  },
  {
   "cell_type": "code",
   "execution_count": null,
   "metadata": {
    "execution": {
     "iopub.execute_input": "2020-09-24T15:42:40.710133Z",
     "iopub.status.busy": "2020-09-24T15:42:40.698795Z",
     "iopub.status.idle": "2020-09-24T15:42:40.716091Z",
     "shell.execute_reply": "2020-09-24T15:42:40.715452Z"
    },
    "papermill": {
     "duration": 0.081841,
     "end_time": "2020-09-24T15:42:40.716225",
     "exception": false,
     "start_time": "2020-09-24T15:42:40.634384",
     "status": "completed"
    },
    "tags": []
   },
   "outputs": [],
   "source": [
    "plant_1_sensor['DATE'] = [datetime.strftime(i,format=\"%Y-%m-%d\") for i in pd.to_datetime(plant_1_sensor.DATE_TIME)]\n",
    "plant_1_sensor['DATE'] = pd.to_datetime(plant_1_sensor['DATE'])"
   ]
  },
  {
   "cell_type": "code",
   "execution_count": null,
   "metadata": {
    "execution": {
     "iopub.execute_input": "2020-09-24T15:42:40.839394Z",
     "iopub.status.busy": "2020-09-24T15:42:40.828226Z",
     "iopub.status.idle": "2020-09-24T15:42:40.845121Z",
     "shell.execute_reply": "2020-09-24T15:42:40.844374Z"
    },
    "papermill": {
     "duration": 0.082039,
     "end_time": "2020-09-24T15:42:40.845255",
     "exception": false,
     "start_time": "2020-09-24T15:42:40.763216",
     "status": "completed"
    },
    "tags": []
   },
   "outputs": [],
   "source": [
    "plant_2_sensor['DATE'] = [datetime.strftime(i,format=\"%Y-%m-%d\") for i in pd.to_datetime(plant_2_sensor.DATE_TIME)]\n",
    "plant_2_sensor['DATE'] = pd.to_datetime(plant_2_sensor['DATE'])"
   ]
  },
  {
   "cell_type": "markdown",
   "metadata": {
    "papermill": {
     "duration": 0.046753,
     "end_time": "2020-09-24T15:42:40.939198",
     "exception": false,
     "start_time": "2020-09-24T15:42:40.892445",
     "status": "completed"
    },
    "tags": []
   },
   "source": [
    "**Extracting `Year`,`Month`,`Day` from `DATE` Column and creating 3 new features. This will help us to solve some questions related to daily production or rate.**\n",
    "\n",
    "**cell 18 to cell 21**"
   ]
  },
  {
   "cell_type": "code",
   "execution_count": null,
   "metadata": {
    "execution": {
     "iopub.execute_input": "2020-09-24T15:42:41.084372Z",
     "iopub.status.busy": "2020-09-24T15:42:41.068795Z",
     "iopub.status.idle": "2020-09-24T15:42:42.442654Z",
     "shell.execute_reply": "2020-09-24T15:42:42.441992Z"
    },
    "papermill": {
     "duration": 1.456424,
     "end_time": "2020-09-24T15:42:42.442787",
     "exception": false,
     "start_time": "2020-09-24T15:42:40.986363",
     "status": "completed"
    },
    "tags": []
   },
   "outputs": [],
   "source": [
    "plant_1_generation['YEAR'] = [datetime.strftime(i,format=\"%Y\") for i in plant_1_generation.DATE]\n",
    "plant_1_generation['MONTH'] = [datetime.strftime(i,format=\"%m\") for i in plant_1_generation.DATE]\n",
    "plant_1_generation['DAY'] = [datetime.strftime(i,format=\"%d\") for i in plant_1_generation.DATE]"
   ]
  },
  {
   "cell_type": "code",
   "execution_count": null,
   "metadata": {
    "execution": {
     "iopub.execute_input": "2020-09-24T15:42:42.591483Z",
     "iopub.status.busy": "2020-09-24T15:42:42.570872Z",
     "iopub.status.idle": "2020-09-24T15:42:43.951831Z",
     "shell.execute_reply": "2020-09-24T15:42:43.951213Z"
    },
    "papermill": {
     "duration": 1.46089,
     "end_time": "2020-09-24T15:42:43.951992",
     "exception": false,
     "start_time": "2020-09-24T15:42:42.491102",
     "status": "completed"
    },
    "tags": []
   },
   "outputs": [],
   "source": [
    "plant_2_generation['YEAR'] = [datetime.strftime(i,format=\"%Y\") for i in plant_2_generation.DATE]\n",
    "plant_2_generation['MONTH'] = [datetime.strftime(i,format=\"%m\") for i in plant_2_generation.DATE]\n",
    "plant_2_generation['DAY'] = [datetime.strftime(i,format=\"%d\") for i in plant_2_generation.DATE]"
   ]
  },
  {
   "cell_type": "code",
   "execution_count": null,
   "metadata": {
    "execution": {
     "iopub.execute_input": "2020-09-24T15:42:44.090815Z",
     "iopub.status.busy": "2020-09-24T15:42:44.065136Z",
     "iopub.status.idle": "2020-09-24T15:42:44.119178Z",
     "shell.execute_reply": "2020-09-24T15:42:44.118488Z"
    },
    "papermill": {
     "duration": 0.119095,
     "end_time": "2020-09-24T15:42:44.119335",
     "exception": false,
     "start_time": "2020-09-24T15:42:44.000240",
     "status": "completed"
    },
    "tags": []
   },
   "outputs": [],
   "source": [
    "plant_1_sensor['YEAR'] = [datetime.strftime(i,format=\"%Y\") for i in plant_1_sensor.DATE]\n",
    "plant_1_sensor['MONTH'] = [datetime.strftime(i,format=\"%m\") for i in plant_1_sensor.DATE]\n",
    "plant_1_sensor['DAY'] = [datetime.strftime(i,format=\"%d\") for i in plant_1_sensor.DATE]"
   ]
  },
  {
   "cell_type": "code",
   "execution_count": null,
   "metadata": {
    "execution": {
     "iopub.execute_input": "2020-09-24T15:42:44.233375Z",
     "iopub.status.busy": "2020-09-24T15:42:44.228286Z",
     "iopub.status.idle": "2020-09-24T15:42:44.288772Z",
     "shell.execute_reply": "2020-09-24T15:42:44.288096Z"
    },
    "papermill": {
     "duration": 0.121402,
     "end_time": "2020-09-24T15:42:44.288893",
     "exception": false,
     "start_time": "2020-09-24T15:42:44.167491",
     "status": "completed"
    },
    "tags": []
   },
   "outputs": [],
   "source": [
    "plant_2_sensor['YEAR'] = [datetime.strftime(i,format=\"%Y\") for i in plant_2_sensor.DATE]\n",
    "plant_2_sensor['MONTH'] = [datetime.strftime(i,format=\"%m\") for i in plant_2_sensor.DATE]\n",
    "plant_2_sensor['DAY'] = [datetime.strftime(i,format=\"%d\") for i in plant_2_sensor.DATE]"
   ]
  },
  {
   "cell_type": "code",
   "execution_count": null,
   "metadata": {
    "execution": {
     "iopub.execute_input": "2020-09-24T15:42:44.391683Z",
     "iopub.status.busy": "2020-09-24T15:42:44.390960Z",
     "iopub.status.idle": "2020-09-24T15:42:44.900488Z",
     "shell.execute_reply": "2020-09-24T15:42:44.901067Z"
    },
    "papermill": {
     "duration": 0.564508,
     "end_time": "2020-09-24T15:42:44.901243",
     "exception": false,
     "start_time": "2020-09-24T15:42:44.336735",
     "status": "completed"
    },
    "tags": []
   },
   "outputs": [],
   "source": [
    "sns.set_style('whitegrid')\n",
    "plt.figure(figsize=(14,8))\n",
    "fig=sns.lineplot(data=plant_1_generation,x='DATE',y='DAILY_YIELD',ci=None)\n",
    "fig.set_title('Plant 1 Daily Power Generation')\n",
    "plt.show()"
   ]
  },
  {
   "cell_type": "code",
   "execution_count": null,
   "metadata": {
    "execution": {
     "iopub.execute_input": "2020-09-24T15:42:45.011509Z",
     "iopub.status.busy": "2020-09-24T15:42:45.010341Z",
     "iopub.status.idle": "2020-09-24T15:42:45.445335Z",
     "shell.execute_reply": "2020-09-24T15:42:45.445846Z"
    },
    "papermill": {
     "duration": 0.494838,
     "end_time": "2020-09-24T15:42:45.446029",
     "exception": false,
     "start_time": "2020-09-24T15:42:44.951191",
     "status": "completed"
    },
    "tags": []
   },
   "outputs": [],
   "source": [
    "sns.set_style('whitegrid')\n",
    "plt.figure(figsize=(16,8))\n",
    "sns.lineplot(data=plant_2_generation,x='DATE',y='DAILY_YIELD',ci=None)\n",
    "plt.title('Plant 2 Daily Power Generation')\n",
    "plt.show()"
   ]
  },
  {
   "cell_type": "markdown",
   "metadata": {
    "papermill": {
     "duration": 0.05146,
     "end_time": "2020-09-24T15:42:45.549263",
     "exception": false,
     "start_time": "2020-09-24T15:42:45.497803",
     "status": "completed"
    },
    "tags": []
   },
   "source": [
    "<h3>Now we will solve actual questions mentioned in task :)</h3>"
   ]
  },
  {
   "cell_type": "markdown",
   "metadata": {
    "papermill": {
     "duration": 0.051177,
     "end_time": "2020-09-24T15:42:45.651671",
     "exception": false,
     "start_time": "2020-09-24T15:42:45.600494",
     "status": "completed"
    },
    "tags": []
   },
   "source": [
    "# Q1. What is the mean value of daily yield?\n",
    "\n",
    "\n",
    "**steps**\n",
    "\n",
    ">Group data by `each_day`\n",
    "\n",
    ">calculate sum of each day yield\n",
    "\n",
    ">at last calculate mean"
   ]
  },
  {
   "cell_type": "code",
   "execution_count": null,
   "metadata": {
    "execution": {
     "iopub.execute_input": "2020-09-24T15:42:45.761228Z",
     "iopub.status.busy": "2020-09-24T15:42:45.760474Z",
     "iopub.status.idle": "2020-09-24T15:42:45.769555Z",
     "shell.execute_reply": "2020-09-24T15:42:45.768837Z"
    },
    "papermill": {
     "duration": 0.066587,
     "end_time": "2020-09-24T15:42:45.769707",
     "exception": false,
     "start_time": "2020-09-24T15:42:45.703120",
     "status": "completed"
    },
    "tags": []
   },
   "outputs": [],
   "source": [
    "plant_1_daily_yield_mean = plant_1_generation.groupby(['DATE']).DAILY_YIELD.sum().mean() \n",
    "plant_2_daily_yield_mean = plant_2_generation.groupby(['DATE']).DAILY_YIELD.sum().mean()"
   ]
  },
  {
   "cell_type": "code",
   "execution_count": null,
   "metadata": {
    "execution": {
     "iopub.execute_input": "2020-09-24T15:42:45.878387Z",
     "iopub.status.busy": "2020-09-24T15:42:45.877590Z",
     "iopub.status.idle": "2020-09-24T15:42:45.881656Z",
     "shell.execute_reply": "2020-09-24T15:42:45.882224Z"
    },
    "papermill": {
     "duration": 0.060782,
     "end_time": "2020-09-24T15:42:45.882378",
     "exception": false,
     "start_time": "2020-09-24T15:42:45.821596",
     "status": "completed"
    },
    "tags": []
   },
   "outputs": [],
   "source": [
    "print(plant_1_daily_yield_mean,plant_2_daily_yield_mean)"
   ]
  },
  {
   "cell_type": "code",
   "execution_count": null,
   "metadata": {
    "execution": {
     "iopub.execute_input": "2020-09-24T15:42:46.001999Z",
     "iopub.status.busy": "2020-09-24T15:42:45.995805Z",
     "iopub.status.idle": "2020-09-24T15:42:46.137960Z",
     "shell.execute_reply": "2020-09-24T15:42:46.137273Z"
    },
    "papermill": {
     "duration": 0.203178,
     "end_time": "2020-09-24T15:42:46.138084",
     "exception": false,
     "start_time": "2020-09-24T15:42:45.934906",
     "status": "completed"
    },
    "tags": []
   },
   "outputs": [],
   "source": [
    "sns.set_style('darkgrid')\n",
    "plt.figure(figsize=(10,6))\n",
    "plt.bar(x=['Plant_1','Plant_2'],height=[plant_1_daily_yield_mean,plant_2_daily_yield_mean],color=[\"green\",\"blue\"])\n",
    "for i,j in enumerate([plant_1_daily_yield_mean,plant_2_daily_yield_mean]):\n",
    "    plt.text(i-0.2,j+100000,str(j))\n",
    "plt.title(\"mean value of daily yield\")\n",
    "plt.yticks(range(0,8000001,1000000))\n",
    "plt.show()"
   ]
  },
  {
   "cell_type": "markdown",
   "metadata": {
    "papermill": {
     "duration": 0.053089,
     "end_time": "2020-09-24T15:42:46.245140",
     "exception": false,
     "start_time": "2020-09-24T15:42:46.192051",
     "status": "completed"
    },
    "tags": []
   },
   "source": [
    "<h3>Conclusion : So plant 1 is generating more power than plant 2</h3>"
   ]
  },
  {
   "cell_type": "markdown",
   "metadata": {
    "papermill": {
     "duration": 0.053829,
     "end_time": "2020-09-24T15:42:46.352535",
     "exception": false,
     "start_time": "2020-09-24T15:42:46.298706",
     "status": "completed"
    },
    "tags": []
   },
   "source": [
    "# Q2. What is the total irradiation per day?\n",
    "\n",
    "**steps :**\n",
    "\n",
    "> Group by DAY\n",
    "\n",
    ">Calculate aggregate sum of each day\n",
    "\n",
    ">create dataframe for better formating"
   ]
  },
  {
   "cell_type": "code",
   "execution_count": null,
   "metadata": {
    "execution": {
     "iopub.execute_input": "2020-09-24T15:42:46.469416Z",
     "iopub.status.busy": "2020-09-24T15:42:46.468564Z",
     "iopub.status.idle": "2020-09-24T15:42:46.472200Z",
     "shell.execute_reply": "2020-09-24T15:42:46.471594Z"
    },
    "papermill": {
     "duration": 0.066167,
     "end_time": "2020-09-24T15:42:46.472327",
     "exception": false,
     "start_time": "2020-09-24T15:42:46.406160",
     "status": "completed"
    },
    "tags": []
   },
   "outputs": [],
   "source": [
    "plant_1_irradiation = plant_1_sensor.groupby(['DATE']).IRRADIATION.sum()\n",
    "plant_2_irradiation = plant_2_sensor.groupby(['DATE']).IRRADIATION.sum()"
   ]
  },
  {
   "cell_type": "code",
   "execution_count": null,
   "metadata": {
    "execution": {
     "iopub.execute_input": "2020-09-24T15:42:46.597865Z",
     "iopub.status.busy": "2020-09-24T15:42:46.596905Z",
     "iopub.status.idle": "2020-09-24T15:42:46.601071Z",
     "shell.execute_reply": "2020-09-24T15:42:46.601665Z"
    },
    "papermill": {
     "duration": 0.075467,
     "end_time": "2020-09-24T15:42:46.601812",
     "exception": false,
     "start_time": "2020-09-24T15:42:46.526345",
     "status": "completed"
    },
    "tags": []
   },
   "outputs": [],
   "source": [
    "pd.DataFrame({'Date':plant_1_irradiation.index,'Plant_1_Daily_Irradiation':plant_1_irradiation.values,'Plant_2_Daily_Irradiation':plant_2_irradiation.values})"
   ]
  },
  {
   "cell_type": "markdown",
   "metadata": {
    "papermill": {
     "duration": 0.054275,
     "end_time": "2020-09-24T15:42:46.710569",
     "exception": false,
     "start_time": "2020-09-24T15:42:46.656294",
     "status": "completed"
    },
    "tags": []
   },
   "source": [
    "# Q3. What is the max ambient and module temperature?"
   ]
  },
  {
   "cell_type": "code",
   "execution_count": null,
   "metadata": {
    "execution": {
     "iopub.execute_input": "2020-09-24T15:42:46.833505Z",
     "iopub.status.busy": "2020-09-24T15:42:46.832748Z",
     "iopub.status.idle": "2020-09-24T15:42:46.839240Z",
     "shell.execute_reply": "2020-09-24T15:42:46.838513Z"
    },
    "papermill": {
     "duration": 0.073715,
     "end_time": "2020-09-24T15:42:46.839359",
     "exception": false,
     "start_time": "2020-09-24T15:42:46.765644",
     "status": "completed"
    },
    "tags": []
   },
   "outputs": [],
   "source": [
    "max_amb_modu_temp =pd.DataFrame({'Max_Ambient':[plant_1_sensor.AMBIENT_TEMPERATURE.max(),plant_2_sensor.AMBIENT_TEMPERATURE.max()],\n",
    "                                 'Max_Module':[plant_1_sensor.MODULE_TEMPERATURE.max(),plant_2_sensor.MODULE_TEMPERATURE.max()]},index=['Plant_1','Plant_2'])\n",
    "max_amb_modu_temp"
   ]
  },
  {
   "cell_type": "markdown",
   "metadata": {
    "papermill": {
     "duration": 0.055075,
     "end_time": "2020-09-24T15:42:46.950254",
     "exception": false,
     "start_time": "2020-09-24T15:42:46.895179",
     "status": "completed"
    },
    "tags": []
   },
   "source": [
    "# Q4. How many inverters are there for each plant?\n",
    "\n",
    ">Source key is a unique key for each inverter used in power plant"
   ]
  },
  {
   "cell_type": "code",
   "execution_count": 8,
   "metadata": {
    "execution": {
     "iopub.execute_input": "2020-09-24T15:42:47.103205Z",
     "iopub.status.busy": "2020-09-24T15:42:47.101782Z",
     "iopub.status.idle": "2020-09-24T15:42:47.107575Z",
     "shell.execute_reply": "2020-09-24T15:42:47.108336Z"
    },
    "papermill": {
     "duration": 0.102386,
     "end_time": "2020-09-24T15:42:47.108551",
     "exception": false,
     "start_time": "2020-09-24T15:42:47.006165",
     "status": "completed"
    },
    "tags": []
   },
   "outputs": [
    {
     "ename": "NameError",
     "evalue": "name 'plant_1_generation' is not defined",
     "output_type": "error",
     "traceback": [
      "\u001b[0;31m---------------------------------------------------------------------------\u001b[0m",
      "\u001b[0;31mNameError\u001b[0m                                 Traceback (most recent call last)",
      "\u001b[0;32m<ipython-input-8-c839bf102c2c>\u001b[0m in \u001b[0;36m<module>\u001b[0;34m\u001b[0m\n\u001b[0;32m----> 1\u001b[0;31m \u001b[0mprint\u001b[0m\u001b[0;34m(\u001b[0m\u001b[0;34m\"No. of inverters in Plant_1 : \"\u001b[0m\u001b[0;34m,\u001b[0m\u001b[0mlen\u001b[0m\u001b[0;34m(\u001b[0m\u001b[0mplant_1_generation\u001b[0m\u001b[0;34m.\u001b[0m\u001b[0mSOURCE_KEY\u001b[0m\u001b[0;34m.\u001b[0m\u001b[0mvalue_counts\u001b[0m\u001b[0;34m(\u001b[0m\u001b[0;34m)\u001b[0m\u001b[0;34m)\u001b[0m\u001b[0;34m)\u001b[0m\u001b[0;34m\u001b[0m\u001b[0;34m\u001b[0m\u001b[0m\n\u001b[0m\u001b[1;32m      2\u001b[0m \u001b[0mprint\u001b[0m\u001b[0;34m(\u001b[0m\u001b[0;34m\"No. of inverters in Plant_2 : \"\u001b[0m\u001b[0;34m,\u001b[0m\u001b[0mlen\u001b[0m\u001b[0;34m(\u001b[0m\u001b[0mplant_2_generation\u001b[0m\u001b[0;34m.\u001b[0m\u001b[0mSOURCE_KEY\u001b[0m\u001b[0;34m.\u001b[0m\u001b[0mvalue_counts\u001b[0m\u001b[0;34m(\u001b[0m\u001b[0;34m)\u001b[0m\u001b[0;34m)\u001b[0m\u001b[0;34m)\u001b[0m\u001b[0;34m\u001b[0m\u001b[0;34m\u001b[0m\u001b[0m\n",
      "\u001b[0;31mNameError\u001b[0m: name 'plant_1_generation' is not defined"
     ]
    }
   ],
   "source": [
    "print(\"No. of inverters in Plant_1 : \",len(plant_1_generation.SOURCE_KEY.value_counts()))\n",
    "print(\"No. of inverters in Plant_2 : \",len(plant_2_generation.SOURCE_KEY.value_counts()))"
   ]
  },
  {
   "cell_type": "markdown",
   "metadata": {
    "papermill": {
     "duration": 0.055654,
     "end_time": "2020-09-24T15:42:47.221496",
     "exception": false,
     "start_time": "2020-09-24T15:42:47.165842",
     "status": "completed"
    },
    "tags": []
   },
   "source": [
    "# Q4. What is the maximum/minimum amount of DC/AC Power generated in a time interval/day?"
   ]
  },
  {
   "cell_type": "markdown",
   "metadata": {
    "papermill": {
     "duration": 0.056151,
     "end_time": "2020-09-24T15:42:47.337771",
     "exception": false,
     "start_time": "2020-09-24T15:42:47.281620",
     "status": "completed"
    },
    "tags": []
   },
   "source": [
    "# Plant_1_Min_Max"
   ]
  },
  {
   "cell_type": "code",
   "execution_count": null,
   "metadata": {
    "execution": {
     "iopub.execute_input": "2020-09-24T15:42:47.459976Z",
     "iopub.status.busy": "2020-09-24T15:42:47.459207Z",
     "iopub.status.idle": "2020-09-24T15:42:47.494445Z",
     "shell.execute_reply": "2020-09-24T15:42:47.493814Z"
    },
    "papermill": {
     "duration": 0.100408,
     "end_time": "2020-09-24T15:42:47.494575",
     "exception": false,
     "start_time": "2020-09-24T15:42:47.394167",
     "status": "completed"
    },
    "tags": []
   },
   "outputs": [],
   "source": [
    "pd.DataFrame({'DC_Power_Max':plant_1_generation.groupby(['DATE']).DC_POWER.max().values,'DC_Power_Min':plant_1_generation.groupby(['DATE']).DC_POWER.min().values,\n",
    "              'AC_Power_Max':plant_1_generation.groupby(['DATE']).AC_POWER.max().values,'AC_Power_Min':plant_1_generation.groupby(['DATE']).AC_POWER.min().values},\n",
    "             index=plant_1_generation.groupby(['DATE']).DC_POWER.max().index)"
   ]
  },
  {
   "cell_type": "markdown",
   "metadata": {
    "papermill": {
     "duration": 0.057278,
     "end_time": "2020-09-24T15:42:47.609630",
     "exception": false,
     "start_time": "2020-09-24T15:42:47.552352",
     "status": "completed"
    },
    "tags": []
   },
   "source": [
    "# Plant_2_Min_Max"
   ]
  },
  {
   "cell_type": "code",
   "execution_count": null,
   "metadata": {
    "execution": {
     "iopub.execute_input": "2020-09-24T15:42:47.732948Z",
     "iopub.status.busy": "2020-09-24T15:42:47.732206Z",
     "iopub.status.idle": "2020-09-24T15:42:47.765198Z",
     "shell.execute_reply": "2020-09-24T15:42:47.764561Z"
    },
    "papermill": {
     "duration": 0.098772,
     "end_time": "2020-09-24T15:42:47.765320",
     "exception": false,
     "start_time": "2020-09-24T15:42:47.666548",
     "status": "completed"
    },
    "tags": []
   },
   "outputs": [],
   "source": [
    "pd.DataFrame({'DC_Power_Max':plant_2_generation.groupby(['DATE']).DC_POWER.max().values,'DC_Power_Min':plant_2_generation.groupby(['DATE']).DC_POWER.min().values,\n",
    "              'AC_Power_Max':plant_2_generation.groupby(['DATE']).AC_POWER.max().values,'AC_Power_Min':plant_2_generation.groupby(['DATE']).AC_POWER.min().values},\n",
    "             index=plant_2_generation.groupby(['DATE']).DC_POWER.max().index)"
   ]
  },
  {
   "cell_type": "markdown",
   "metadata": {
    "papermill": {
     "duration": 0.057716,
     "end_time": "2020-09-24T15:42:47.881348",
     "exception": false,
     "start_time": "2020-09-24T15:42:47.823632",
     "status": "completed"
    },
    "tags": []
   },
   "source": [
    "# Q5. Which inverter (source_key) has produced maximum DC/AC power?\n",
    "\n",
    "**steps :**\n",
    "\n",
    ">In a data frame create 3 key-value pairs of Max_DC,Mac_AC, and the source key of those inverters which are generating these outputs.\n",
    "\n",
    ">Group data by Source_Key and find aggregate sum and then find maximum values by sorting them in descending order."
   ]
  },
  {
   "cell_type": "code",
   "execution_count": null,
   "metadata": {
    "execution": {
     "iopub.execute_input": "2020-09-24T15:42:48.011081Z",
     "iopub.status.busy": "2020-09-24T15:42:48.010296Z",
     "iopub.status.idle": "2020-09-24T15:42:48.074705Z",
     "shell.execute_reply": "2020-09-24T15:42:48.075251Z"
    },
    "papermill": {
     "duration": 0.135867,
     "end_time": "2020-09-24T15:42:48.075410",
     "exception": false,
     "start_time": "2020-09-24T15:42:47.939543",
     "status": "completed"
    },
    "tags": []
   },
   "outputs": [],
   "source": [
    "dc_ac =pd.DataFrame({'Inverter_Source_Key':[plant_1_generation.groupby(['SOURCE_KEY']).DC_POWER.sum().sort_values(ascending=False).index[0],\n",
    "                    plant_2_generation.groupby(['SOURCE_KEY']).DC_POWER.sum().sort_values(ascending=False).index[0]],\n",
    "                    'Max_DC':[plant_1_generation.groupby(['SOURCE_KEY']).DC_POWER.sum().max(),plant_2_generation.groupby(['SOURCE_KEY']).DC_POWER.sum().max()],\n",
    "                        'Max_AC':[plant_1_generation.groupby(['SOURCE_KEY']).AC_POWER.sum().max(),plant_2_generation.groupby(['SOURCE_KEY']).AC_POWER.sum().max()],\n",
    "                     },index=['Plant_1','Plant_2'])\n",
    "dc_ac"
   ]
  },
  {
   "cell_type": "markdown",
   "metadata": {
    "papermill": {
     "duration": 0.05909,
     "end_time": "2020-09-24T15:42:48.194511",
     "exception": false,
     "start_time": "2020-09-24T15:42:48.135421",
     "status": "completed"
    },
    "tags": []
   },
   "source": [
    "# Q6. Rank the inverters based on the DC/AC power they produce "
   ]
  },
  {
   "cell_type": "markdown",
   "metadata": {
    "papermill": {
     "duration": 0.058741,
     "end_time": "2020-09-24T15:42:48.312235",
     "exception": false,
     "start_time": "2020-09-24T15:42:48.253494",
     "status": "completed"
    },
    "tags": []
   },
   "source": [
    "# Plant_1"
   ]
  },
  {
   "cell_type": "code",
   "execution_count": null,
   "metadata": {
    "execution": {
     "iopub.execute_input": "2020-09-24T15:42:48.442554Z",
     "iopub.status.busy": "2020-09-24T15:42:48.441774Z",
     "iopub.status.idle": "2020-09-24T15:42:48.458969Z",
     "shell.execute_reply": "2020-09-24T15:42:48.458356Z"
    },
    "papermill": {
     "duration": 0.087627,
     "end_time": "2020-09-24T15:42:48.459108",
     "exception": false,
     "start_time": "2020-09-24T15:42:48.371481",
     "status": "completed"
    },
    "tags": []
   },
   "outputs": [],
   "source": [
    "index_dc_p1 = plant_1_generation.groupby(['SOURCE_KEY']).DC_POWER.sum().sort_values(ascending=False).index\n",
    "index_ac_p1 = plant_1_generation.groupby(['SOURCE_KEY']).AC_POWER.sum().sort_values(ascending=False).index"
   ]
  },
  {
   "cell_type": "code",
   "execution_count": null,
   "metadata": {
    "execution": {
     "iopub.execute_input": "2020-09-24T15:42:48.587190Z",
     "iopub.status.busy": "2020-09-24T15:42:48.586267Z",
     "iopub.status.idle": "2020-09-24T15:42:48.590370Z",
     "shell.execute_reply": "2020-09-24T15:42:48.589670Z"
    },
    "papermill": {
     "duration": 0.071799,
     "end_time": "2020-09-24T15:42:48.590496",
     "exception": false,
     "start_time": "2020-09-24T15:42:48.518697",
     "status": "completed"
    },
    "tags": []
   },
   "outputs": [],
   "source": [
    "#Reason to create this is so that we can create a single dataframe for both AC and DC production ranking.\n",
    "#Through this we can give excat rating to each inverter w.r.t their production.\n",
    "\n",
    "ac_dict_p1 = dict() \n",
    "for i,j in zip(index_dc_p1,range(1,23,1)):\n",
    "    ac_dict_p1[i] = j\n",
    "ac_pr_per_dc_rank = []\n",
    "for i in index_dc_p1:\n",
    "    ac_pr_per_dc_rank.append(ac_dict_p1[i])\n",
    "ac_pr_per_dc_rank"
   ]
  },
  {
   "cell_type": "code",
   "execution_count": null,
   "metadata": {
    "execution": {
     "iopub.execute_input": "2020-09-24T15:42:48.725815Z",
     "iopub.status.busy": "2020-09-24T15:42:48.724696Z",
     "iopub.status.idle": "2020-09-24T15:42:48.729042Z",
     "shell.execute_reply": "2020-09-24T15:42:48.729610Z"
    },
    "papermill": {
     "duration": 0.079271,
     "end_time": "2020-09-24T15:42:48.729755",
     "exception": false,
     "start_time": "2020-09-24T15:42:48.650484",
     "status": "completed"
    },
    "tags": []
   },
   "outputs": [],
   "source": [
    "plant_1_dc_ac_rank = pd.DataFrame({'Plant_1_Inverter_Source_Key':index_dc_p1,'DC_Production_Rank':range(1,23,1),'AC_Production_Rank':ac_pr_per_dc_rank})\n",
    "plant_1_dc_ac_rank"
   ]
  },
  {
   "cell_type": "markdown",
   "metadata": {
    "papermill": {
     "duration": 0.060653,
     "end_time": "2020-09-24T15:42:48.851406",
     "exception": false,
     "start_time": "2020-09-24T15:42:48.790753",
     "status": "completed"
    },
    "tags": []
   },
   "source": [
    "# Plant_2\n",
    "\n",
    "**We will do same process for plant_2**"
   ]
  },
  {
   "cell_type": "code",
   "execution_count": null,
   "metadata": {
    "execution": {
     "iopub.execute_input": "2020-09-24T15:42:48.984491Z",
     "iopub.status.busy": "2020-09-24T15:42:48.983745Z",
     "iopub.status.idle": "2020-09-24T15:42:49.001420Z",
     "shell.execute_reply": "2020-09-24T15:42:49.000770Z"
    },
    "papermill": {
     "duration": 0.089667,
     "end_time": "2020-09-24T15:42:49.001560",
     "exception": false,
     "start_time": "2020-09-24T15:42:48.911893",
     "status": "completed"
    },
    "tags": []
   },
   "outputs": [],
   "source": [
    "index_dc_p2 = plant_2_generation.groupby(['SOURCE_KEY']).DC_POWER.sum().sort_values(ascending=False).index\n",
    "index_ac_p2 = plant_2_generation.groupby(['SOURCE_KEY']).AC_POWER.sum().sort_values(ascending=False).index"
   ]
  },
  {
   "cell_type": "code",
   "execution_count": null,
   "metadata": {
    "execution": {
     "iopub.execute_input": "2020-09-24T15:42:49.132346Z",
     "iopub.status.busy": "2020-09-24T15:42:49.131254Z",
     "iopub.status.idle": "2020-09-24T15:42:49.135668Z",
     "shell.execute_reply": "2020-09-24T15:42:49.134840Z"
    },
    "papermill": {
     "duration": 0.073581,
     "end_time": "2020-09-24T15:42:49.135811",
     "exception": false,
     "start_time": "2020-09-24T15:42:49.062230",
     "status": "completed"
    },
    "tags": []
   },
   "outputs": [],
   "source": [
    "ac_dict_p2 = dict()\n",
    "for i,j in zip(index_dc_p2,range(1,23,1)):\n",
    "    ac_dict_p2[i] = j\n",
    "ac_pr_per_dc_rank_p2 = []\n",
    "for i in index_dc_p2:\n",
    "    ac_pr_per_dc_rank_p2.append(ac_dict_p2[i])\n",
    "ac_pr_per_dc_rank_p2"
   ]
  },
  {
   "cell_type": "code",
   "execution_count": null,
   "metadata": {
    "execution": {
     "iopub.execute_input": "2020-09-24T15:42:49.275768Z",
     "iopub.status.busy": "2020-09-24T15:42:49.274977Z",
     "iopub.status.idle": "2020-09-24T15:42:49.279781Z",
     "shell.execute_reply": "2020-09-24T15:42:49.279083Z"
    },
    "papermill": {
     "duration": 0.081356,
     "end_time": "2020-09-24T15:42:49.279898",
     "exception": false,
     "start_time": "2020-09-24T15:42:49.198542",
     "status": "completed"
    },
    "tags": []
   },
   "outputs": [],
   "source": [
    "plant_2_dc_ac_rank = pd.DataFrame({'Plant_2_Inverter_Source_Key':index_dc_p2,'DC_Production_Rank':range(1,23,1),'AC_Production_Rank':ac_pr_per_dc_rank_p2})\n",
    "plant_2_dc_ac_rank"
   ]
  },
  {
   "cell_type": "markdown",
   "metadata": {
    "papermill": {
     "duration": 0.062207,
     "end_time": "2020-09-24T15:42:49.404521",
     "exception": false,
     "start_time": "2020-09-24T15:42:49.342314",
     "status": "completed"
    },
    "tags": []
   },
   "source": [
    "# Q7. Is there any missing data?\n",
    "\n",
    ">We will see percentage of Missing or NaN in each column of each dataframe"
   ]
  },
  {
   "cell_type": "code",
   "execution_count": null,
   "metadata": {
    "execution": {
     "iopub.execute_input": "2020-09-24T15:42:49.542891Z",
     "iopub.status.busy": "2020-09-24T15:42:49.540797Z",
     "iopub.status.idle": "2020-09-24T15:42:49.635772Z",
     "shell.execute_reply": "2020-09-24T15:42:49.634872Z"
    },
    "papermill": {
     "duration": 0.169295,
     "end_time": "2020-09-24T15:42:49.635975",
     "exception": false,
     "start_time": "2020-09-24T15:42:49.466680",
     "status": "completed"
    },
    "tags": []
   },
   "outputs": [],
   "source": [
    "print(\"*******************Plant_1_Sensor*****************\")\n",
    "print(plant_1_sensor.isna().sum()/plant_1_sensor.shape[0]*100)\n",
    "print(\"*******************Plant_1_Generation*****************\")\n",
    "print(plant_1_generation.isna().sum()/plant_1_generation.shape[0]*100)\n",
    "print(\"*******************Plant_2_Sensor*****************\")\n",
    "print(plant_2_sensor.isna().sum()/plant_2_sensor.shape[0]*100)\n",
    "print(\"*******************Plant_2_Generation*****************\")\n",
    "print(plant_2_generation.isna().sum()/plant_2_generation.shape[0]*100)"
   ]
  },
  {
   "cell_type": "markdown",
   "metadata": {
    "papermill": {
     "duration": 0.062694,
     "end_time": "2020-09-24T15:42:49.767569",
     "exception": false,
     "start_time": "2020-09-24T15:42:49.704875",
     "status": "completed"
    },
    "tags": []
   },
   "source": [
    "<h3>Please give your valuable suggestion so that i can make it more useful.</h3>\n",
    "\n",
    "<h3>If you Liked this notebook then don't forget to upvote it. It will motivate me to do more works like this in future.</h3>\n",
    "\n",
    "# Thank You :)"
   ]
  }
 ],
 "metadata": {
  "kernelspec": {
   "display_name": "Python 3",
   "language": "python",
   "name": "python3"
  },
  "language_info": {
   "codemirror_mode": {
    "name": "ipython",
    "version": 3
   },
   "file_extension": ".py",
   "mimetype": "text/x-python",
   "name": "python",
   "nbconvert_exporter": "python",
   "pygments_lexer": "ipython3",
   "version": "3.7.6"
  },
  "papermill": {
   "duration": 18.739943,
   "end_time": "2020-09-24T15:42:49.979572",
   "environment_variables": {},
   "exception": null,
   "input_path": "__notebook__.ipynb",
   "output_path": "__notebook__.ipynb",
   "parameters": {},
   "start_time": "2020-09-24T15:42:31.239629",
   "version": "2.1.0"
  }
 },
 "nbformat": 4,
 "nbformat_minor": 4
}
