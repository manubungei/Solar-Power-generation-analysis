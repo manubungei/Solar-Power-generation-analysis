{
 "cells": [
  {
   "cell_type": "markdown",
   "metadata": {
    "papermill": {
     "duration": 0.042475,
     "end_time": "2020-09-24T15:42:35.989240",
     "exception": false,
     "start_time": "2020-09-24T15:42:35.946765",
     "status": "completed"
    },
    "tags": []
   },
   "source": [
    "<h3>This notebook is regarding a task assosiate with the data used in this notebook</h3>\n",
    "\n",
    "**In this task I did some descriptive statistics based on:**\n",
    "\n",
    "1. What is the mean value of daily yield?\n",
    "2. What is the total irradiation per day?\n",
    "3. What is the max ambient and module temperature?\n",
    "4. How many inverters are there for each plant?\n",
    "5. What is the maximum/minimum amount of DC/AC Power generated in a time interval/day?\n",
    "6. Which inverter (source_key) has produced maximum DC/AC power?\n",
    "7. Rank the inverters based on the DC/AC power they produce\n",
    "8. Is there any missing data?\n",
    "\n",
    "**Data Source from:** https://www.kaggle.com/anikannal/solar-power-generation-data/tasks?taskId=1749"
   ]
  },
  {
   "cell_type": "code",
   "execution_count": 55,
   "metadata": {
    "execution": {
     "iopub.execute_input": "2020-09-24T15:42:36.074760Z",
     "iopub.status.busy": "2020-09-24T15:42:36.073646Z",
     "iopub.status.idle": "2020-09-24T15:42:36.077092Z",
     "shell.execute_reply": "2020-09-24T15:42:36.076311Z"
    },
    "papermill": {
     "duration": 0.04796,
     "end_time": "2020-09-24T15:42:36.077213",
     "exception": false,
     "start_time": "2020-09-24T15:42:36.029253",
     "status": "completed"
    },
    "tags": []
   },
   "outputs": [],
   "source": [
    "import warnings\n",
    "warnings.filterwarnings('ignore')"
   ]
  },
  {
   "cell_type": "code",
   "execution_count": 56,
   "metadata": {
    "execution": {
     "iopub.execute_input": "2020-09-24T15:42:36.165497Z",
     "iopub.status.busy": "2020-09-24T15:42:36.164585Z",
     "iopub.status.idle": "2020-09-24T15:42:37.170503Z",
     "shell.execute_reply": "2020-09-24T15:42:37.169772Z"
    },
    "papermill": {
     "duration": 1.052957,
     "end_time": "2020-09-24T15:42:37.170627",
     "exception": false,
     "start_time": "2020-09-24T15:42:36.117670",
     "status": "completed"
    },
    "tags": []
   },
   "outputs": [],
   "source": [
    "#Import the basic libraries\n",
    "import numpy as np\n",
    "import pandas as pd\n",
    "import seaborn as sns\n",
    "import matplotlib.pyplot as plt\n",
    "%matplotlib inline"
   ]
  },
  {
   "cell_type": "code",
   "execution_count": null,
   "metadata": {
    "_cell_guid": "b1076dfc-b9ad-4769-8c92-a6c4dae69d19",
    "_uuid": "8f2839f25d086af736a60e9eeb907d3b93b6e0e5",
    "execution": {
     "iopub.execute_input": "2020-09-24T15:42:37.260079Z",
     "iopub.status.busy": "2020-09-24T15:42:37.259328Z",
     "iopub.status.idle": "2020-09-24T15:42:37.268734Z",
     "shell.execute_reply": "2020-09-24T15:42:37.267951Z"
    },
    "papermill": {
     "duration": 0.057687,
     "end_time": "2020-09-24T15:42:37.268897",
     "exception": false,
     "start_time": "2020-09-24T15:42:37.211210",
     "status": "completed"
    },
    "tags": []
   },
   "outputs": [],
   "source": []
  },
  {
   "cell_type": "code",
   "execution_count": 57,
   "metadata": {
    "_cell_guid": "79c7e3d0-c299-4dcb-8224-4455121ee9b0",
    "_uuid": "d629ff2d2480ee46fbb7e2d37f6b5fab8052498a",
    "execution": {
     "iopub.execute_input": "2020-09-24T15:42:37.360574Z",
     "iopub.status.busy": "2020-09-24T15:42:37.359819Z",
     "iopub.status.idle": "2020-09-24T15:42:37.611076Z",
     "shell.execute_reply": "2020-09-24T15:42:37.610379Z"
    },
    "papermill": {
     "duration": 0.300889,
     "end_time": "2020-09-24T15:42:37.611206",
     "exception": false,
     "start_time": "2020-09-24T15:42:37.310317",
     "status": "completed"
    },
    "tags": []
   },
   "outputs": [],
   "source": [
    "plant_1_sensor = pd.read_csv(\"Plant_1_Weather_Sensor_Data.csv\")\n",
    "plant_2_sensor = pd.read_csv(\"Plant_2_Weather_Sensor_Data.csv\")\n",
    "plant_1_generation = pd.read_csv(\"Plant_1_Generation_Data.csv\")\n",
    "plant_2_generation = pd.read_csv(\"Plant_2_Generation_Data.csv\")"
   ]
  },
  {
   "cell_type": "code",
   "execution_count": 58,
   "metadata": {
    "execution": {
     "iopub.execute_input": "2020-09-24T15:42:37.699148Z",
     "iopub.status.busy": "2020-09-24T15:42:37.698120Z",
     "iopub.status.idle": "2020-09-24T15:42:37.702826Z",
     "shell.execute_reply": "2020-09-24T15:42:37.702085Z"
    },
    "papermill": {
     "duration": 0.050964,
     "end_time": "2020-09-24T15:42:37.702998",
     "exception": false,
     "start_time": "2020-09-24T15:42:37.652034",
     "status": "completed"
    },
    "tags": []
   },
   "outputs": [
    {
     "name": "stdout",
     "output_type": "stream",
     "text": [
      "(3182, 6) (68778, 7) (3259, 6) (67698, 7)\n"
     ]
    }
   ],
   "source": [
    "print(plant_1_sensor.shape,plant_1_generation.shape,plant_2_sensor.shape,plant_2_generation.shape)\n",
    "#Get the data shape"
   ]
  },
  {
   "cell_type": "code",
   "execution_count": 59,
   "metadata": {
    "execution": {
     "iopub.execute_input": "2020-09-24T15:42:37.802074Z",
     "iopub.status.busy": "2020-09-24T15:42:37.801005Z",
     "iopub.status.idle": "2020-09-24T15:42:37.812015Z",
     "shell.execute_reply": "2020-09-24T15:42:37.811387Z"
    },
    "papermill": {
     "duration": 0.067074,
     "end_time": "2020-09-24T15:42:37.812135",
     "exception": false,
     "start_time": "2020-09-24T15:42:37.745061",
     "status": "completed"
    },
    "tags": []
   },
   "outputs": [
    {
     "data": {
      "text/html": [
       "<div>\n",
       "<style scoped>\n",
       "    .dataframe tbody tr th:only-of-type {\n",
       "        vertical-align: middle;\n",
       "    }\n",
       "\n",
       "    .dataframe tbody tr th {\n",
       "        vertical-align: top;\n",
       "    }\n",
       "\n",
       "    .dataframe thead th {\n",
       "        text-align: right;\n",
       "    }\n",
       "</style>\n",
       "<table border=\"1\" class=\"dataframe\">\n",
       "  <thead>\n",
       "    <tr style=\"text-align: right;\">\n",
       "      <th></th>\n",
       "      <th>DATE_TIME</th>\n",
       "      <th>PLANT_ID</th>\n",
       "      <th>SOURCE_KEY</th>\n",
       "      <th>AMBIENT_TEMPERATURE</th>\n",
       "      <th>MODULE_TEMPERATURE</th>\n",
       "      <th>IRRADIATION</th>\n",
       "    </tr>\n",
       "  </thead>\n",
       "  <tbody>\n",
       "    <tr>\n",
       "      <th>0</th>\n",
       "      <td>2020-05-15 00:00:00</td>\n",
       "      <td>4135001</td>\n",
       "      <td>HmiyD2TTLFNqkNe</td>\n",
       "      <td>25.184316</td>\n",
       "      <td>22.857507</td>\n",
       "      <td>0.0</td>\n",
       "    </tr>\n",
       "    <tr>\n",
       "      <th>1</th>\n",
       "      <td>2020-05-15 00:15:00</td>\n",
       "      <td>4135001</td>\n",
       "      <td>HmiyD2TTLFNqkNe</td>\n",
       "      <td>25.084589</td>\n",
       "      <td>22.761668</td>\n",
       "      <td>0.0</td>\n",
       "    </tr>\n",
       "    <tr>\n",
       "      <th>2</th>\n",
       "      <td>2020-05-15 00:30:00</td>\n",
       "      <td>4135001</td>\n",
       "      <td>HmiyD2TTLFNqkNe</td>\n",
       "      <td>24.935753</td>\n",
       "      <td>22.592306</td>\n",
       "      <td>0.0</td>\n",
       "    </tr>\n",
       "    <tr>\n",
       "      <th>3</th>\n",
       "      <td>2020-05-15 00:45:00</td>\n",
       "      <td>4135001</td>\n",
       "      <td>HmiyD2TTLFNqkNe</td>\n",
       "      <td>24.846130</td>\n",
       "      <td>22.360852</td>\n",
       "      <td>0.0</td>\n",
       "    </tr>\n",
       "    <tr>\n",
       "      <th>4</th>\n",
       "      <td>2020-05-15 01:00:00</td>\n",
       "      <td>4135001</td>\n",
       "      <td>HmiyD2TTLFNqkNe</td>\n",
       "      <td>24.621525</td>\n",
       "      <td>22.165423</td>\n",
       "      <td>0.0</td>\n",
       "    </tr>\n",
       "  </tbody>\n",
       "</table>\n",
       "</div>"
      ],
      "text/plain": [
       "             DATE_TIME  PLANT_ID       SOURCE_KEY  AMBIENT_TEMPERATURE  \\\n",
       "0  2020-05-15 00:00:00   4135001  HmiyD2TTLFNqkNe            25.184316   \n",
       "1  2020-05-15 00:15:00   4135001  HmiyD2TTLFNqkNe            25.084589   \n",
       "2  2020-05-15 00:30:00   4135001  HmiyD2TTLFNqkNe            24.935753   \n",
       "3  2020-05-15 00:45:00   4135001  HmiyD2TTLFNqkNe            24.846130   \n",
       "4  2020-05-15 01:00:00   4135001  HmiyD2TTLFNqkNe            24.621525   \n",
       "\n",
       "   MODULE_TEMPERATURE  IRRADIATION  \n",
       "0           22.857507          0.0  \n",
       "1           22.761668          0.0  \n",
       "2           22.592306          0.0  \n",
       "3           22.360852          0.0  \n",
       "4           22.165423          0.0  "
      ]
     },
     "execution_count": 59,
     "metadata": {},
     "output_type": "execute_result"
    }
   ],
   "source": [
    "plant_1_sensor.head()"
   ]
  },
  {
   "cell_type": "code",
   "execution_count": 60,
   "metadata": {
    "execution": {
     "iopub.execute_input": "2020-09-24T15:42:37.911044Z",
     "iopub.status.busy": "2020-09-24T15:42:37.910160Z",
     "iopub.status.idle": "2020-09-24T15:42:37.915105Z",
     "shell.execute_reply": "2020-09-24T15:42:37.914353Z"
    },
    "papermill": {
     "duration": 0.061219,
     "end_time": "2020-09-24T15:42:37.915233",
     "exception": false,
     "start_time": "2020-09-24T15:42:37.854014",
     "status": "completed"
    },
    "tags": []
   },
   "outputs": [
    {
     "data": {
      "text/html": [
       "<div>\n",
       "<style scoped>\n",
       "    .dataframe tbody tr th:only-of-type {\n",
       "        vertical-align: middle;\n",
       "    }\n",
       "\n",
       "    .dataframe tbody tr th {\n",
       "        vertical-align: top;\n",
       "    }\n",
       "\n",
       "    .dataframe thead th {\n",
       "        text-align: right;\n",
       "    }\n",
       "</style>\n",
       "<table border=\"1\" class=\"dataframe\">\n",
       "  <thead>\n",
       "    <tr style=\"text-align: right;\">\n",
       "      <th></th>\n",
       "      <th>DATE_TIME</th>\n",
       "      <th>PLANT_ID</th>\n",
       "      <th>SOURCE_KEY</th>\n",
       "      <th>DC_POWER</th>\n",
       "      <th>AC_POWER</th>\n",
       "      <th>DAILY_YIELD</th>\n",
       "      <th>TOTAL_YIELD</th>\n",
       "    </tr>\n",
       "  </thead>\n",
       "  <tbody>\n",
       "    <tr>\n",
       "      <th>0</th>\n",
       "      <td>15-05-2020 00:00</td>\n",
       "      <td>4135001</td>\n",
       "      <td>1BY6WEcLGh8j5v7</td>\n",
       "      <td>0.0</td>\n",
       "      <td>0.0</td>\n",
       "      <td>0.0</td>\n",
       "      <td>6259559.0</td>\n",
       "    </tr>\n",
       "    <tr>\n",
       "      <th>1</th>\n",
       "      <td>15-05-2020 00:00</td>\n",
       "      <td>4135001</td>\n",
       "      <td>1IF53ai7Xc0U56Y</td>\n",
       "      <td>0.0</td>\n",
       "      <td>0.0</td>\n",
       "      <td>0.0</td>\n",
       "      <td>6183645.0</td>\n",
       "    </tr>\n",
       "    <tr>\n",
       "      <th>2</th>\n",
       "      <td>15-05-2020 00:00</td>\n",
       "      <td>4135001</td>\n",
       "      <td>3PZuoBAID5Wc2HD</td>\n",
       "      <td>0.0</td>\n",
       "      <td>0.0</td>\n",
       "      <td>0.0</td>\n",
       "      <td>6987759.0</td>\n",
       "    </tr>\n",
       "    <tr>\n",
       "      <th>3</th>\n",
       "      <td>15-05-2020 00:00</td>\n",
       "      <td>4135001</td>\n",
       "      <td>7JYdWkrLSPkdwr4</td>\n",
       "      <td>0.0</td>\n",
       "      <td>0.0</td>\n",
       "      <td>0.0</td>\n",
       "      <td>7602960.0</td>\n",
       "    </tr>\n",
       "    <tr>\n",
       "      <th>4</th>\n",
       "      <td>15-05-2020 00:00</td>\n",
       "      <td>4135001</td>\n",
       "      <td>McdE0feGgRqW7Ca</td>\n",
       "      <td>0.0</td>\n",
       "      <td>0.0</td>\n",
       "      <td>0.0</td>\n",
       "      <td>7158964.0</td>\n",
       "    </tr>\n",
       "  </tbody>\n",
       "</table>\n",
       "</div>"
      ],
      "text/plain": [
       "          DATE_TIME  PLANT_ID       SOURCE_KEY  DC_POWER  AC_POWER  \\\n",
       "0  15-05-2020 00:00   4135001  1BY6WEcLGh8j5v7       0.0       0.0   \n",
       "1  15-05-2020 00:00   4135001  1IF53ai7Xc0U56Y       0.0       0.0   \n",
       "2  15-05-2020 00:00   4135001  3PZuoBAID5Wc2HD       0.0       0.0   \n",
       "3  15-05-2020 00:00   4135001  7JYdWkrLSPkdwr4       0.0       0.0   \n",
       "4  15-05-2020 00:00   4135001  McdE0feGgRqW7Ca       0.0       0.0   \n",
       "\n",
       "   DAILY_YIELD  TOTAL_YIELD  \n",
       "0          0.0    6259559.0  \n",
       "1          0.0    6183645.0  \n",
       "2          0.0    6987759.0  \n",
       "3          0.0    7602960.0  \n",
       "4          0.0    7158964.0  "
      ]
     },
     "execution_count": 60,
     "metadata": {},
     "output_type": "execute_result"
    }
   ],
   "source": [
    "plant_1_generation.head()"
   ]
  },
  {
   "cell_type": "code",
   "execution_count": 61,
   "metadata": {
    "execution": {
     "iopub.execute_input": "2020-09-24T15:42:38.014997Z",
     "iopub.status.busy": "2020-09-24T15:42:38.010312Z",
     "iopub.status.idle": "2020-09-24T15:42:38.019358Z",
     "shell.execute_reply": "2020-09-24T15:42:38.018613Z"
    },
    "papermill": {
     "duration": 0.061321,
     "end_time": "2020-09-24T15:42:38.019477",
     "exception": false,
     "start_time": "2020-09-24T15:42:37.958156",
     "status": "completed"
    },
    "tags": []
   },
   "outputs": [
    {
     "data": {
      "text/html": [
       "<div>\n",
       "<style scoped>\n",
       "    .dataframe tbody tr th:only-of-type {\n",
       "        vertical-align: middle;\n",
       "    }\n",
       "\n",
       "    .dataframe tbody tr th {\n",
       "        vertical-align: top;\n",
       "    }\n",
       "\n",
       "    .dataframe thead th {\n",
       "        text-align: right;\n",
       "    }\n",
       "</style>\n",
       "<table border=\"1\" class=\"dataframe\">\n",
       "  <thead>\n",
       "    <tr style=\"text-align: right;\">\n",
       "      <th></th>\n",
       "      <th>DATE_TIME</th>\n",
       "      <th>PLANT_ID</th>\n",
       "      <th>SOURCE_KEY</th>\n",
       "      <th>AMBIENT_TEMPERATURE</th>\n",
       "      <th>MODULE_TEMPERATURE</th>\n",
       "      <th>IRRADIATION</th>\n",
       "    </tr>\n",
       "  </thead>\n",
       "  <tbody>\n",
       "    <tr>\n",
       "      <th>0</th>\n",
       "      <td>2020-05-15 00:00:00</td>\n",
       "      <td>4136001</td>\n",
       "      <td>iq8k7ZNt4Mwm3w0</td>\n",
       "      <td>27.004764</td>\n",
       "      <td>25.060789</td>\n",
       "      <td>0.0</td>\n",
       "    </tr>\n",
       "    <tr>\n",
       "      <th>1</th>\n",
       "      <td>2020-05-15 00:15:00</td>\n",
       "      <td>4136001</td>\n",
       "      <td>iq8k7ZNt4Mwm3w0</td>\n",
       "      <td>26.880811</td>\n",
       "      <td>24.421869</td>\n",
       "      <td>0.0</td>\n",
       "    </tr>\n",
       "    <tr>\n",
       "      <th>2</th>\n",
       "      <td>2020-05-15 00:30:00</td>\n",
       "      <td>4136001</td>\n",
       "      <td>iq8k7ZNt4Mwm3w0</td>\n",
       "      <td>26.682055</td>\n",
       "      <td>24.427290</td>\n",
       "      <td>0.0</td>\n",
       "    </tr>\n",
       "    <tr>\n",
       "      <th>3</th>\n",
       "      <td>2020-05-15 00:45:00</td>\n",
       "      <td>4136001</td>\n",
       "      <td>iq8k7ZNt4Mwm3w0</td>\n",
       "      <td>26.500589</td>\n",
       "      <td>24.420678</td>\n",
       "      <td>0.0</td>\n",
       "    </tr>\n",
       "    <tr>\n",
       "      <th>4</th>\n",
       "      <td>2020-05-15 01:00:00</td>\n",
       "      <td>4136001</td>\n",
       "      <td>iq8k7ZNt4Mwm3w0</td>\n",
       "      <td>26.596148</td>\n",
       "      <td>25.088210</td>\n",
       "      <td>0.0</td>\n",
       "    </tr>\n",
       "  </tbody>\n",
       "</table>\n",
       "</div>"
      ],
      "text/plain": [
       "             DATE_TIME  PLANT_ID       SOURCE_KEY  AMBIENT_TEMPERATURE  \\\n",
       "0  2020-05-15 00:00:00   4136001  iq8k7ZNt4Mwm3w0            27.004764   \n",
       "1  2020-05-15 00:15:00   4136001  iq8k7ZNt4Mwm3w0            26.880811   \n",
       "2  2020-05-15 00:30:00   4136001  iq8k7ZNt4Mwm3w0            26.682055   \n",
       "3  2020-05-15 00:45:00   4136001  iq8k7ZNt4Mwm3w0            26.500589   \n",
       "4  2020-05-15 01:00:00   4136001  iq8k7ZNt4Mwm3w0            26.596148   \n",
       "\n",
       "   MODULE_TEMPERATURE  IRRADIATION  \n",
       "0           25.060789          0.0  \n",
       "1           24.421869          0.0  \n",
       "2           24.427290          0.0  \n",
       "3           24.420678          0.0  \n",
       "4           25.088210          0.0  "
      ]
     },
     "execution_count": 61,
     "metadata": {},
     "output_type": "execute_result"
    }
   ],
   "source": [
    "plant_2_sensor.head()"
   ]
  },
  {
   "cell_type": "code",
   "execution_count": 62,
   "metadata": {
    "execution": {
     "iopub.execute_input": "2020-09-24T15:42:38.114244Z",
     "iopub.status.busy": "2020-09-24T15:42:38.113488Z",
     "iopub.status.idle": "2020-09-24T15:42:38.154992Z",
     "shell.execute_reply": "2020-09-24T15:42:38.154365Z"
    },
    "papermill": {
     "duration": 0.09194,
     "end_time": "2020-09-24T15:42:38.155113",
     "exception": false,
     "start_time": "2020-09-24T15:42:38.063173",
     "status": "completed"
    },
    "tags": []
   },
   "outputs": [
    {
     "data": {
      "text/html": [
       "<div>\n",
       "<style scoped>\n",
       "    .dataframe tbody tr th:only-of-type {\n",
       "        vertical-align: middle;\n",
       "    }\n",
       "\n",
       "    .dataframe tbody tr th {\n",
       "        vertical-align: top;\n",
       "    }\n",
       "\n",
       "    .dataframe thead th {\n",
       "        text-align: right;\n",
       "    }\n",
       "</style>\n",
       "<table border=\"1\" class=\"dataframe\">\n",
       "  <thead>\n",
       "    <tr style=\"text-align: right;\">\n",
       "      <th></th>\n",
       "      <th>DATE_TIME</th>\n",
       "      <th>PLANT_ID</th>\n",
       "      <th>SOURCE_KEY</th>\n",
       "      <th>DC_POWER</th>\n",
       "      <th>AC_POWER</th>\n",
       "      <th>DAILY_YIELD</th>\n",
       "      <th>TOTAL_YIELD</th>\n",
       "    </tr>\n",
       "  </thead>\n",
       "  <tbody>\n",
       "    <tr>\n",
       "      <th>836</th>\n",
       "      <td>2020-05-15 09:30:00</td>\n",
       "      <td>4136001</td>\n",
       "      <td>4UPUqMRk7TRMgml</td>\n",
       "      <td>1026.060000</td>\n",
       "      <td>1003.133333</td>\n",
       "      <td>1749.200000</td>\n",
       "      <td>2.430760e+06</td>\n",
       "    </tr>\n",
       "    <tr>\n",
       "      <th>840</th>\n",
       "      <td>2020-05-15 09:30:00</td>\n",
       "      <td>4136001</td>\n",
       "      <td>IQ2d7wF4YD8zU1Q</td>\n",
       "      <td>1025.878571</td>\n",
       "      <td>1002.942857</td>\n",
       "      <td>1750.428571</td>\n",
       "      <td>1.994328e+07</td>\n",
       "    </tr>\n",
       "    <tr>\n",
       "      <th>843</th>\n",
       "      <td>2020-05-15 09:30:00</td>\n",
       "      <td>4136001</td>\n",
       "      <td>Mx2yZCDsyf6DPfv</td>\n",
       "      <td>1019.653333</td>\n",
       "      <td>996.900000</td>\n",
       "      <td>1739.333333</td>\n",
       "      <td>2.455385e+06</td>\n",
       "    </tr>\n",
       "    <tr>\n",
       "      <th>844</th>\n",
       "      <td>2020-05-15 09:30:00</td>\n",
       "      <td>4136001</td>\n",
       "      <td>NgDl19wMapZy17u</td>\n",
       "      <td>1005.200000</td>\n",
       "      <td>982.842857</td>\n",
       "      <td>1721.500000</td>\n",
       "      <td>1.115143e+08</td>\n",
       "    </tr>\n",
       "    <tr>\n",
       "      <th>846</th>\n",
       "      <td>2020-05-15 09:30:00</td>\n",
       "      <td>4136001</td>\n",
       "      <td>Qf4GUc1pJu5T6c6</td>\n",
       "      <td>1029.046667</td>\n",
       "      <td>1006.026667</td>\n",
       "      <td>1760.000000</td>\n",
       "      <td>8.384231e+08</td>\n",
       "    </tr>\n",
       "    <tr>\n",
       "      <th>...</th>\n",
       "      <td>...</td>\n",
       "      <td>...</td>\n",
       "      <td>...</td>\n",
       "      <td>...</td>\n",
       "      <td>...</td>\n",
       "      <td>...</td>\n",
       "      <td>...</td>\n",
       "    </tr>\n",
       "    <tr>\n",
       "      <th>64503</th>\n",
       "      <td>2020-06-16 11:30:00</td>\n",
       "      <td>4136001</td>\n",
       "      <td>q49J1IKaHRwDQnt</td>\n",
       "      <td>1095.986667</td>\n",
       "      <td>1070.500000</td>\n",
       "      <td>2393.400000</td>\n",
       "      <td>5.137184e+05</td>\n",
       "    </tr>\n",
       "    <tr>\n",
       "      <th>64504</th>\n",
       "      <td>2020-06-16 11:30:00</td>\n",
       "      <td>4136001</td>\n",
       "      <td>rrq4fwE8jgrTyWY</td>\n",
       "      <td>1047.873333</td>\n",
       "      <td>1024.306667</td>\n",
       "      <td>2286.400000</td>\n",
       "      <td>1.211246e+08</td>\n",
       "    </tr>\n",
       "    <tr>\n",
       "      <th>64505</th>\n",
       "      <td>2020-06-16 11:30:00</td>\n",
       "      <td>4136001</td>\n",
       "      <td>vOuJvMaM2sgwLmb</td>\n",
       "      <td>1131.673333</td>\n",
       "      <td>1103.980000</td>\n",
       "      <td>2460.266667</td>\n",
       "      <td>2.420295e+06</td>\n",
       "    </tr>\n",
       "    <tr>\n",
       "      <th>64506</th>\n",
       "      <td>2020-06-16 11:30:00</td>\n",
       "      <td>4136001</td>\n",
       "      <td>xMbIugepa2P7lBB</td>\n",
       "      <td>1110.566667</td>\n",
       "      <td>1084.640000</td>\n",
       "      <td>2442.066667</td>\n",
       "      <td>1.068891e+08</td>\n",
       "    </tr>\n",
       "    <tr>\n",
       "      <th>64507</th>\n",
       "      <td>2020-06-16 11:30:00</td>\n",
       "      <td>4136001</td>\n",
       "      <td>xoJJ8DcxJEcupym</td>\n",
       "      <td>1124.973333</td>\n",
       "      <td>1098.206667</td>\n",
       "      <td>2287.800000</td>\n",
       "      <td>2.093284e+08</td>\n",
       "    </tr>\n",
       "  </tbody>\n",
       "</table>\n",
       "<p>4843 rows × 7 columns</p>\n",
       "</div>"
      ],
      "text/plain": [
       "                 DATE_TIME  PLANT_ID       SOURCE_KEY     DC_POWER  \\\n",
       "836    2020-05-15 09:30:00   4136001  4UPUqMRk7TRMgml  1026.060000   \n",
       "840    2020-05-15 09:30:00   4136001  IQ2d7wF4YD8zU1Q  1025.878571   \n",
       "843    2020-05-15 09:30:00   4136001  Mx2yZCDsyf6DPfv  1019.653333   \n",
       "844    2020-05-15 09:30:00   4136001  NgDl19wMapZy17u  1005.200000   \n",
       "846    2020-05-15 09:30:00   4136001  Qf4GUc1pJu5T6c6  1029.046667   \n",
       "...                    ...       ...              ...          ...   \n",
       "64503  2020-06-16 11:30:00   4136001  q49J1IKaHRwDQnt  1095.986667   \n",
       "64504  2020-06-16 11:30:00   4136001  rrq4fwE8jgrTyWY  1047.873333   \n",
       "64505  2020-06-16 11:30:00   4136001  vOuJvMaM2sgwLmb  1131.673333   \n",
       "64506  2020-06-16 11:30:00   4136001  xMbIugepa2P7lBB  1110.566667   \n",
       "64507  2020-06-16 11:30:00   4136001  xoJJ8DcxJEcupym  1124.973333   \n",
       "\n",
       "          AC_POWER  DAILY_YIELD   TOTAL_YIELD  \n",
       "836    1003.133333  1749.200000  2.430760e+06  \n",
       "840    1002.942857  1750.428571  1.994328e+07  \n",
       "843     996.900000  1739.333333  2.455385e+06  \n",
       "844     982.842857  1721.500000  1.115143e+08  \n",
       "846    1006.026667  1760.000000  8.384231e+08  \n",
       "...            ...          ...           ...  \n",
       "64503  1070.500000  2393.400000  5.137184e+05  \n",
       "64504  1024.306667  2286.400000  1.211246e+08  \n",
       "64505  1103.980000  2460.266667  2.420295e+06  \n",
       "64506  1084.640000  2442.066667  1.068891e+08  \n",
       "64507  1098.206667  2287.800000  2.093284e+08  \n",
       "\n",
       "[4843 rows x 7 columns]"
      ]
     },
     "execution_count": 62,
     "metadata": {},
     "output_type": "execute_result"
    }
   ],
   "source": [
    "plant_2_generation[plant_2_generation.DC_POWER > 1000]"
   ]
  },
  {
   "cell_type": "markdown",
   "metadata": {
    "papermill": {
     "duration": 0.044204,
     "end_time": "2020-09-24T15:42:38.243785",
     "exception": false,
     "start_time": "2020-09-24T15:42:38.199581",
     "status": "completed"
    },
    "tags": []
   },
   "source": [
    "**Checking percentage of unique values in all 4 datasets**"
   ]
  },
  {
   "cell_type": "code",
   "execution_count": 63,
   "metadata": {
    "execution": {
     "iopub.execute_input": "2020-09-24T15:42:38.342908Z",
     "iopub.status.busy": "2020-09-24T15:42:38.342188Z",
     "iopub.status.idle": "2020-09-24T15:42:38.413055Z",
     "shell.execute_reply": "2020-09-24T15:42:38.412214Z"
    },
    "papermill": {
     "duration": 0.124255,
     "end_time": "2020-09-24T15:42:38.413225",
     "exception": false,
     "start_time": "2020-09-24T15:42:38.288970",
     "status": "completed"
    },
    "tags": []
   },
   "outputs": [
    {
     "name": "stdout",
     "output_type": "stream",
     "text": [
      "*******************Plant_1_Sensor*****************\n",
      "DATE_TIME              100.000000\n",
      "PLANT_ID                 0.031427\n",
      "SOURCE_KEY               0.031427\n",
      "AMBIENT_TEMPERATURE    100.000000\n",
      "MODULE_TEMPERATURE     100.000000\n",
      "IRRADIATION             55.248272\n",
      "dtype: float64\n",
      "*******************Plant_1_Generation*****************\n",
      "DATE_TIME       4.591585\n",
      "PLANT_ID        0.001454\n",
      "SOURCE_KEY      0.031987\n",
      "DC_POWER       47.848149\n",
      "AC_POWER       47.523918\n",
      "DAILY_YIELD    43.473204\n",
      "TOTAL_YIELD    54.184478\n",
      "dtype: float64\n",
      "*******************Plant_2_Sensor*****************\n",
      "DATE_TIME              100.000000\n",
      "PLANT_ID                 0.030684\n",
      "SOURCE_KEY               0.030684\n",
      "AMBIENT_TEMPERATURE    100.000000\n",
      "MODULE_TEMPERATURE     100.000000\n",
      "IRRADIATION             57.164774\n",
      "dtype: float64\n",
      "*******************Plant_2_Generation*****************\n",
      "DATE_TIME       4.814027\n",
      "PLANT_ID        0.001477\n",
      "SOURCE_KEY      0.032497\n",
      "DC_POWER       45.411977\n",
      "AC_POWER       45.379479\n",
      "DAILY_YIELD    44.824072\n",
      "TOTAL_YIELD    48.914296\n",
      "dtype: float64\n"
     ]
    }
   ],
   "source": [
    "print(\"*******************Plant_1_Sensor*****************\")\n",
    "print(plant_1_sensor.nunique()/plant_1_sensor.shape[0]*100)\n",
    "print(\"*******************Plant_1_Generation*****************\")\n",
    "print(plant_1_generation.nunique()/plant_1_generation.shape[0]*100)\n",
    "print(\"*******************Plant_2_Sensor*****************\")\n",
    "print(plant_2_sensor.nunique()/plant_2_sensor.shape[0]*100)\n",
    "print(\"*******************Plant_2_Generation*****************\")\n",
    "print(plant_2_generation.nunique()/plant_2_generation.shape[0]*100)"
   ]
  },
  {
   "cell_type": "code",
   "execution_count": 64,
   "metadata": {
    "execution": {
     "iopub.execute_input": "2020-09-24T15:42:38.521467Z",
     "iopub.status.busy": "2020-09-24T15:42:38.520477Z",
     "iopub.status.idle": "2020-09-24T15:42:38.579776Z",
     "shell.execute_reply": "2020-09-24T15:42:38.580378Z"
    },
    "papermill": {
     "duration": 0.120508,
     "end_time": "2020-09-24T15:42:38.580556",
     "exception": false,
     "start_time": "2020-09-24T15:42:38.460048",
     "status": "completed"
    },
    "tags": []
   },
   "outputs": [
    {
     "name": "stdout",
     "output_type": "stream",
     "text": [
      "<class 'pandas.core.frame.DataFrame'>\n",
      "RangeIndex: 3182 entries, 0 to 3181\n",
      "Data columns (total 6 columns):\n",
      " #   Column               Non-Null Count  Dtype  \n",
      "---  ------               --------------  -----  \n",
      " 0   DATE_TIME            3182 non-null   object \n",
      " 1   PLANT_ID             3182 non-null   int64  \n",
      " 2   SOURCE_KEY           3182 non-null   object \n",
      " 3   AMBIENT_TEMPERATURE  3182 non-null   float64\n",
      " 4   MODULE_TEMPERATURE   3182 non-null   float64\n",
      " 5   IRRADIATION          3182 non-null   float64\n",
      "dtypes: float64(3), int64(1), object(2)\n",
      "memory usage: 149.3+ KB\n",
      "None\n"
     ]
    }
   ],
   "source": [
    "print(plant_1_sensor.info())"
   ]
  },
  {
   "cell_type": "code",
   "execution_count": 65,
   "metadata": {},
   "outputs": [
    {
     "name": "stdout",
     "output_type": "stream",
     "text": [
      "<class 'pandas.core.frame.DataFrame'>\n",
      "RangeIndex: 68778 entries, 0 to 68777\n",
      "Data columns (total 7 columns):\n",
      " #   Column       Non-Null Count  Dtype  \n",
      "---  ------       --------------  -----  \n",
      " 0   DATE_TIME    68778 non-null  object \n",
      " 1   PLANT_ID     68778 non-null  int64  \n",
      " 2   SOURCE_KEY   68778 non-null  object \n",
      " 3   DC_POWER     68778 non-null  float64\n",
      " 4   AC_POWER     68778 non-null  float64\n",
      " 5   DAILY_YIELD  68778 non-null  float64\n",
      " 6   TOTAL_YIELD  68778 non-null  float64\n",
      "dtypes: float64(4), int64(1), object(2)\n",
      "memory usage: 3.7+ MB\n",
      "None\n"
     ]
    }
   ],
   "source": [
    "print(plant_1_generation.info())"
   ]
  },
  {
   "cell_type": "code",
   "execution_count": 66,
   "metadata": {},
   "outputs": [
    {
     "name": "stdout",
     "output_type": "stream",
     "text": [
      "<class 'pandas.core.frame.DataFrame'>\n",
      "RangeIndex: 3259 entries, 0 to 3258\n",
      "Data columns (total 6 columns):\n",
      " #   Column               Non-Null Count  Dtype  \n",
      "---  ------               --------------  -----  \n",
      " 0   DATE_TIME            3259 non-null   object \n",
      " 1   PLANT_ID             3259 non-null   int64  \n",
      " 2   SOURCE_KEY           3259 non-null   object \n",
      " 3   AMBIENT_TEMPERATURE  3259 non-null   float64\n",
      " 4   MODULE_TEMPERATURE   3259 non-null   float64\n",
      " 5   IRRADIATION          3259 non-null   float64\n",
      "dtypes: float64(3), int64(1), object(2)\n",
      "memory usage: 152.9+ KB\n",
      "None\n"
     ]
    }
   ],
   "source": [
    "print(plant_2_sensor.info())"
   ]
  },
  {
   "cell_type": "code",
   "execution_count": 67,
   "metadata": {},
   "outputs": [
    {
     "name": "stdout",
     "output_type": "stream",
     "text": [
      "<class 'pandas.core.frame.DataFrame'>\n",
      "RangeIndex: 67698 entries, 0 to 67697\n",
      "Data columns (total 7 columns):\n",
      " #   Column       Non-Null Count  Dtype  \n",
      "---  ------       --------------  -----  \n",
      " 0   DATE_TIME    67698 non-null  object \n",
      " 1   PLANT_ID     67698 non-null  int64  \n",
      " 2   SOURCE_KEY   67698 non-null  object \n",
      " 3   DC_POWER     67698 non-null  float64\n",
      " 4   AC_POWER     67698 non-null  float64\n",
      " 5   DAILY_YIELD  67698 non-null  float64\n",
      " 6   TOTAL_YIELD  67698 non-null  float64\n",
      "dtypes: float64(4), int64(1), object(2)\n",
      "memory usage: 3.6+ MB\n",
      "None\n"
     ]
    }
   ],
   "source": [
    "print(plant_2_generation.info())"
   ]
  },
  {
   "cell_type": "markdown",
   "metadata": {
    "papermill": {
     "duration": 0.046027,
     "end_time": "2020-09-24T15:42:38.672855",
     "exception": false,
     "start_time": "2020-09-24T15:42:38.626828",
     "status": "completed"
    },
    "tags": []
   },
   "source": [
    "**In the next few lines we will work with datetime**"
   ]
  },
  {
   "cell_type": "code",
   "execution_count": 68,
   "metadata": {
    "execution": {
     "iopub.execute_input": "2020-09-24T15:42:38.772018Z",
     "iopub.status.busy": "2020-09-24T15:42:38.771164Z",
     "iopub.status.idle": "2020-09-24T15:42:38.773739Z",
     "shell.execute_reply": "2020-09-24T15:42:38.774290Z"
    },
    "papermill": {
     "duration": 0.054149,
     "end_time": "2020-09-24T15:42:38.774442",
     "exception": false,
     "start_time": "2020-09-24T15:42:38.720293",
     "status": "completed"
    },
    "tags": []
   },
   "outputs": [],
   "source": [
    "from datetime import datetime"
   ]
  },
  {
   "cell_type": "markdown",
   "metadata": {
    "papermill": {
     "duration": 0.045734,
     "end_time": "2020-09-24T15:42:38.866551",
     "exception": false,
     "start_time": "2020-09-24T15:42:38.820817",
     "status": "completed"
    },
    "tags": []
   },
   "source": [
    "**In our dataset `DATE_TIME` is of object type.\n",
    "We will convert it to datetime type. We will also extract date part from timestamp data.**\n"
   ]
  },
  {
   "cell_type": "code",
   "execution_count": 69,
   "metadata": {
    "execution": {
     "iopub.execute_input": "2020-09-24T15:42:38.971427Z",
     "iopub.status.busy": "2020-09-24T15:42:38.970676Z",
     "iopub.status.idle": "2020-09-24T15:42:39.956374Z",
     "shell.execute_reply": "2020-09-24T15:42:39.955580Z"
    },
    "papermill": {
     "duration": 1.043648,
     "end_time": "2020-09-24T15:42:39.956497",
     "exception": false,
     "start_time": "2020-09-24T15:42:38.912849",
     "status": "completed"
    },
    "tags": []
   },
   "outputs": [],
   "source": [
    "plant_1_generation['DATE'] = [datetime.strftime(i,format=\"%d-%m-%Y\") for i in pd.to_datetime(plant_1_generation.DATE_TIME)]\n",
    "plant_1_generation['DATE'] = pd.to_datetime(plant_1_generation['DATE'])"
   ]
  },
  {
   "cell_type": "code",
   "execution_count": 70,
   "metadata": {
    "execution": {
     "iopub.execute_input": "2020-09-24T15:42:40.064122Z",
     "iopub.status.busy": "2020-09-24T15:42:40.063154Z",
     "iopub.status.idle": "2020-09-24T15:42:40.587692Z",
     "shell.execute_reply": "2020-09-24T15:42:40.587004Z"
    },
    "papermill": {
     "duration": 0.583747,
     "end_time": "2020-09-24T15:42:40.587813",
     "exception": false,
     "start_time": "2020-09-24T15:42:40.004066",
     "status": "completed"
    },
    "tags": []
   },
   "outputs": [],
   "source": [
    "plant_2_generation['DATE'] = [datetime.strftime(i,format=\"%Y-%m-%d\") for i in pd.to_datetime(plant_2_generation.DATE_TIME)]\n",
    "plant_2_generation['DATE'] = pd.to_datetime(plant_2_generation['DATE'])"
   ]
  },
  {
   "cell_type": "code",
   "execution_count": 71,
   "metadata": {
    "execution": {
     "iopub.execute_input": "2020-09-24T15:42:40.710133Z",
     "iopub.status.busy": "2020-09-24T15:42:40.698795Z",
     "iopub.status.idle": "2020-09-24T15:42:40.716091Z",
     "shell.execute_reply": "2020-09-24T15:42:40.715452Z"
    },
    "papermill": {
     "duration": 0.081841,
     "end_time": "2020-09-24T15:42:40.716225",
     "exception": false,
     "start_time": "2020-09-24T15:42:40.634384",
     "status": "completed"
    },
    "tags": []
   },
   "outputs": [],
   "source": [
    "plant_1_sensor['DATE'] = [datetime.strftime(i,format=\"%Y-%m-%d\") for i in pd.to_datetime(plant_1_sensor.DATE_TIME)]\n",
    "plant_1_sensor['DATE'] = pd.to_datetime(plant_1_sensor['DATE'])"
   ]
  },
  {
   "cell_type": "code",
   "execution_count": 72,
   "metadata": {
    "execution": {
     "iopub.execute_input": "2020-09-24T15:42:40.839394Z",
     "iopub.status.busy": "2020-09-24T15:42:40.828226Z",
     "iopub.status.idle": "2020-09-24T15:42:40.845121Z",
     "shell.execute_reply": "2020-09-24T15:42:40.844374Z"
    },
    "papermill": {
     "duration": 0.082039,
     "end_time": "2020-09-24T15:42:40.845255",
     "exception": false,
     "start_time": "2020-09-24T15:42:40.763216",
     "status": "completed"
    },
    "tags": []
   },
   "outputs": [],
   "source": [
    "plant_2_sensor['DATE'] = [datetime.strftime(i,format=\"%Y-%m-%d\") for i in pd.to_datetime(plant_2_sensor.DATE_TIME)]\n",
    "plant_2_sensor['DATE'] = pd.to_datetime(plant_2_sensor['DATE'])"
   ]
  },
  {
   "cell_type": "markdown",
   "metadata": {
    "papermill": {
     "duration": 0.046753,
     "end_time": "2020-09-24T15:42:40.939198",
     "exception": false,
     "start_time": "2020-09-24T15:42:40.892445",
     "status": "completed"
    },
    "tags": []
   },
   "source": [
    "**Extracting `Year`,`Month`,`Day` from `DATE` Column and creating 3 new features. This will help us to solve some questions related to daily production or rate.**\n"
   ]
  },
  {
   "cell_type": "code",
   "execution_count": 73,
   "metadata": {
    "execution": {
     "iopub.execute_input": "2020-09-24T15:42:41.084372Z",
     "iopub.status.busy": "2020-09-24T15:42:41.068795Z",
     "iopub.status.idle": "2020-09-24T15:42:42.442654Z",
     "shell.execute_reply": "2020-09-24T15:42:42.441992Z"
    },
    "papermill": {
     "duration": 1.456424,
     "end_time": "2020-09-24T15:42:42.442787",
     "exception": false,
     "start_time": "2020-09-24T15:42:40.986363",
     "status": "completed"
    },
    "tags": []
   },
   "outputs": [],
   "source": [
    "plant_1_generation['YEAR'] = [datetime.strftime(i,format=\"%Y\") for i in plant_1_generation.DATE]\n",
    "plant_1_generation['MONTH'] = [datetime.strftime(i,format=\"%m\") for i in plant_1_generation.DATE]\n",
    "plant_1_generation['DAY'] = [datetime.strftime(i,format=\"%d\") for i in plant_1_generation.DATE]"
   ]
  },
  {
   "cell_type": "code",
   "execution_count": 74,
   "metadata": {
    "execution": {
     "iopub.execute_input": "2020-09-24T15:42:42.591483Z",
     "iopub.status.busy": "2020-09-24T15:42:42.570872Z",
     "iopub.status.idle": "2020-09-24T15:42:43.951831Z",
     "shell.execute_reply": "2020-09-24T15:42:43.951213Z"
    },
    "papermill": {
     "duration": 1.46089,
     "end_time": "2020-09-24T15:42:43.951992",
     "exception": false,
     "start_time": "2020-09-24T15:42:42.491102",
     "status": "completed"
    },
    "tags": []
   },
   "outputs": [],
   "source": [
    "plant_2_generation['YEAR'] = [datetime.strftime(i,format=\"%Y\") for i in plant_2_generation.DATE]\n",
    "plant_2_generation['MONTH'] = [datetime.strftime(i,format=\"%m\") for i in plant_2_generation.DATE]\n",
    "plant_2_generation['DAY'] = [datetime.strftime(i,format=\"%d\") for i in plant_2_generation.DATE]"
   ]
  },
  {
   "cell_type": "code",
   "execution_count": 75,
   "metadata": {
    "execution": {
     "iopub.execute_input": "2020-09-24T15:42:44.090815Z",
     "iopub.status.busy": "2020-09-24T15:42:44.065136Z",
     "iopub.status.idle": "2020-09-24T15:42:44.119178Z",
     "shell.execute_reply": "2020-09-24T15:42:44.118488Z"
    },
    "papermill": {
     "duration": 0.119095,
     "end_time": "2020-09-24T15:42:44.119335",
     "exception": false,
     "start_time": "2020-09-24T15:42:44.000240",
     "status": "completed"
    },
    "tags": []
   },
   "outputs": [],
   "source": [
    "plant_1_sensor['YEAR'] = [datetime.strftime(i,format=\"%Y\") for i in plant_1_sensor.DATE]\n",
    "plant_1_sensor['MONTH'] = [datetime.strftime(i,format=\"%m\") for i in plant_1_sensor.DATE]\n",
    "plant_1_sensor['DAY'] = [datetime.strftime(i,format=\"%d\") for i in plant_1_sensor.DATE]"
   ]
  },
  {
   "cell_type": "code",
   "execution_count": 76,
   "metadata": {
    "execution": {
     "iopub.execute_input": "2020-09-24T15:42:44.233375Z",
     "iopub.status.busy": "2020-09-24T15:42:44.228286Z",
     "iopub.status.idle": "2020-09-24T15:42:44.288772Z",
     "shell.execute_reply": "2020-09-24T15:42:44.288096Z"
    },
    "papermill": {
     "duration": 0.121402,
     "end_time": "2020-09-24T15:42:44.288893",
     "exception": false,
     "start_time": "2020-09-24T15:42:44.167491",
     "status": "completed"
    },
    "tags": []
   },
   "outputs": [],
   "source": [
    "plant_2_sensor['YEAR'] = [datetime.strftime(i,format=\"%Y\") for i in plant_2_sensor.DATE]\n",
    "plant_2_sensor['MONTH'] = [datetime.strftime(i,format=\"%m\") for i in plant_2_sensor.DATE]\n",
    "plant_2_sensor['DAY'] = [datetime.strftime(i,format=\"%d\") for i in plant_2_sensor.DATE]"
   ]
  },
  {
   "cell_type": "code",
   "execution_count": 77,
   "metadata": {
    "execution": {
     "iopub.execute_input": "2020-09-24T15:42:44.391683Z",
     "iopub.status.busy": "2020-09-24T15:42:44.390960Z",
     "iopub.status.idle": "2020-09-24T15:42:44.900488Z",
     "shell.execute_reply": "2020-09-24T15:42:44.901067Z"
    },
    "papermill": {
     "duration": 0.564508,
     "end_time": "2020-09-24T15:42:44.901243",
     "exception": false,
     "start_time": "2020-09-24T15:42:44.336735",
     "status": "completed"
    },
    "tags": []
   },
   "outputs": [
    {
     "data": {
      "image/png": "[encoded data removed]",
      "text/plain": [
       "<Figure size 1008x576 with 1 Axes>"
      ]
     },
     "metadata": {},
     "output_type": "display_data"
    }
   ],
   "source": [
    "sns.set_style('whitegrid')\n",
    "plt.figure(figsize=(14,8))\n",
    "fig=sns.lineplot(data=plant_1_generation,x='DATE',y='DAILY_YIELD',ci=None)\n",
    "fig.set_title('Plant 1 Daily Power Generation')\n",
    "plt.show()"
   ]
  },
  {
   "cell_type": "code",
   "execution_count": 78,
   "metadata": {
    "execution": {
     "iopub.execute_input": "2020-09-24T15:42:45.011509Z",
     "iopub.status.busy": "2020-09-24T15:42:45.010341Z",
     "iopub.status.idle": "2020-09-24T15:42:45.445335Z",
     "shell.execute_reply": "2020-09-24T15:42:45.445846Z"
    },
    "papermill": {
     "duration": 0.494838,
     "end_time": "2020-09-24T15:42:45.446029",
     "exception": false,
     "start_time": "2020-09-24T15:42:44.951191",
     "status": "completed"
    },
    "tags": []
   },
   "outputs": [
    {
     "data": {
      "image/png": "[encoded data removed]",
      "text/plain": [
       "<Figure size 1152x576 with 1 Axes>"
      ]
     },
     "metadata": {},
     "output_type": "display_data"
    }
   ],
   "source": [
    "sns.set_style('whitegrid')\n",
    "plt.figure(figsize=(16,8))\n",
    "sns.lineplot(data=plant_2_generation,x='DATE',y='DAILY_YIELD',ci=None)\n",
    "plt.title('Plant 2 Daily Power Generation')\n",
    "plt.show()"
   ]
  },
  {
   "cell_type": "markdown",
   "metadata": {
    "papermill": {
     "duration": 0.05146,
     "end_time": "2020-09-24T15:42:45.549263",
     "exception": false,
     "start_time": "2020-09-24T15:42:45.497803",
     "status": "completed"
    },
    "tags": []
   },
   "source": [
    "<h3>Now we will solve actual questions mentioned in task :)</h3>"
   ]
  },
  {
   "cell_type": "markdown",
   "metadata": {
    "papermill": {
     "duration": 0.051177,
     "end_time": "2020-09-24T15:42:45.651671",
     "exception": false,
     "start_time": "2020-09-24T15:42:45.600494",
     "status": "completed"
    },
    "tags": []
   },
   "source": [
    "# Q1. What is the mean value of daily yield?\n",
    "\n",
    "\n",
    "**steps**\n",
    "\n",
    ">Group data by `each_day`\n",
    "\n",
    ">calculate sum of each day yield\n",
    "\n",
    ">at last calculate mean"
   ]
  },
  {
   "cell_type": "code",
   "execution_count": 79,
   "metadata": {
    "execution": {
     "iopub.execute_input": "2020-09-24T15:42:45.761228Z",
     "iopub.status.busy": "2020-09-24T15:42:45.760474Z",
     "iopub.status.idle": "2020-09-24T15:42:45.769555Z",
     "shell.execute_reply": "2020-09-24T15:42:45.768837Z"
    },
    "papermill": {
     "duration": 0.066587,
     "end_time": "2020-09-24T15:42:45.769707",
     "exception": false,
     "start_time": "2020-09-24T15:42:45.703120",
     "status": "completed"
    },
    "tags": []
   },
   "outputs": [],
   "source": [
    "plant_1_daily_yield_mean = plant_1_generation.groupby(['DATE']).DAILY_YIELD.sum().mean() \n",
    "plant_2_daily_yield_mean = plant_2_generation.groupby(['DATE']).DAILY_YIELD.sum().mean()"
   ]
  },
  {
   "cell_type": "code",
   "execution_count": 80,
   "metadata": {
    "execution": {
     "iopub.execute_input": "2020-09-24T15:42:45.878387Z",
     "iopub.status.busy": "2020-09-24T15:42:45.877590Z",
     "iopub.status.idle": "2020-09-24T15:42:45.881656Z",
     "shell.execute_reply": "2020-09-24T15:42:45.882224Z"
    },
    "papermill": {
     "duration": 0.060782,
     "end_time": "2020-09-24T15:42:45.882378",
     "exception": false,
     "start_time": "2020-09-24T15:42:45.821596",
     "status": "completed"
    },
    "tags": []
   },
   "outputs": [
    {
     "name": "stdout",
     "output_type": "stream",
     "text": [
      "6667356.9942924855 6560514.211855301\n"
     ]
    }
   ],
   "source": [
    "print(plant_1_daily_yield_mean,plant_2_daily_yield_mean)"
   ]
  },
  {
   "cell_type": "code",
   "execution_count": 81,
   "metadata": {
    "execution": {
     "iopub.execute_input": "2020-09-24T15:42:46.001999Z",
     "iopub.status.busy": "2020-09-24T15:42:45.995805Z",
     "iopub.status.idle": "2020-09-24T15:42:46.137960Z",
     "shell.execute_reply": "2020-09-24T15:42:46.137273Z"
    },
    "papermill": {
     "duration": 0.203178,
     "end_time": "2020-09-24T15:42:46.138084",
     "exception": false,
     "start_time": "2020-09-24T15:42:45.934906",
     "status": "completed"
    },
    "tags": []
   },
   "outputs": [
    {
     "data": {
      "image/png": "[encoded data removed]",
      "text/plain": [
       "<Figure size 720x432 with 1 Axes>"
      ]
     },
     "metadata": {},
     "output_type": "display_data"
    }
   ],
   "source": [
    "sns.set_style('darkgrid')\n",
    "plt.figure(figsize=(10,6))\n",
    "plt.bar(x=['Plant_1','Plant_2'],height=[plant_1_daily_yield_mean,plant_2_daily_yield_mean],color=[\"green\",\"blue\"])\n",
    "for i,j in enumerate([plant_1_daily_yield_mean,plant_2_daily_yield_mean]):\n",
    "    plt.text(i-0.2,j+100000,str(j))\n",
    "plt.title(\"mean value of daily yield\")\n",
    "plt.yticks(range(0,8000001,1000000))\n",
    "plt.show()"
   ]
  },
  {
   "cell_type": "markdown",
   "metadata": {
    "papermill": {
     "duration": 0.053089,
     "end_time": "2020-09-24T15:42:46.245140",
     "exception": false,
     "start_time": "2020-09-24T15:42:46.192051",
     "status": "completed"
    },
    "tags": []
   },
   "source": [
    "<h3>Conclusion : So plant 1 is generating more power than plant 2</h3>"
   ]
  },
  {
   "cell_type": "markdown",
   "metadata": {
    "papermill": {
     "duration": 0.053829,
     "end_time": "2020-09-24T15:42:46.352535",
     "exception": false,
     "start_time": "2020-09-24T15:42:46.298706",
     "status": "completed"
    },
    "tags": []
   },
   "source": [
    "# Q2. What is the total irradiation per day?\n",
    "\n",
    "**steps :**\n",
    "\n",
    "> Group by DAY\n",
    "\n",
    ">Calculate aggregate sum of each day\n",
    "\n",
    ">create dataframe for better formating"
   ]
  },
  {
   "cell_type": "code",
   "execution_count": 82,
   "metadata": {
    "execution": {
     "iopub.execute_input": "2020-09-24T15:42:46.469416Z",
     "iopub.status.busy": "2020-09-24T15:42:46.468564Z",
     "iopub.status.idle": "2020-09-24T15:42:46.472200Z",
     "shell.execute_reply": "2020-09-24T15:42:46.471594Z"
    },
    "papermill": {
     "duration": 0.066167,
     "end_time": "2020-09-24T15:42:46.472327",
     "exception": false,
     "start_time": "2020-09-24T15:42:46.406160",
     "status": "completed"
    },
    "tags": []
   },
   "outputs": [],
   "source": [
    "plant_1_irradiation = plant_1_sensor.groupby(['DATE']).IRRADIATION.sum()\n",
    "plant_2_irradiation = plant_2_sensor.groupby(['DATE']).IRRADIATION.sum()"
   ]
  },
  {
   "cell_type": "code",
   "execution_count": 83,
   "metadata": {
    "execution": {
     "iopub.execute_input": "2020-09-24T15:42:46.597865Z",
     "iopub.status.busy": "2020-09-24T15:42:46.596905Z",
     "iopub.status.idle": "2020-09-24T15:42:46.601071Z",
     "shell.execute_reply": "2020-09-24T15:42:46.601665Z"
    },
    "papermill": {
     "duration": 0.075467,
     "end_time": "2020-09-24T15:42:46.601812",
     "exception": false,
     "start_time": "2020-09-24T15:42:46.526345",
     "status": "completed"
    },
    "tags": []
   },
   "outputs": [
    {
     "data": {
      "text/html": [
       "<div>\n",
       "<style scoped>\n",
       "    .dataframe tbody tr th:only-of-type {\n",
       "        vertical-align: middle;\n",
       "    }\n",
       "\n",
       "    .dataframe tbody tr th {\n",
       "        vertical-align: top;\n",
       "    }\n",
       "\n",
       "    .dataframe thead th {\n",
       "        text-align: right;\n",
       "    }\n",
       "</style>\n",
       "<table border=\"1\" class=\"dataframe\">\n",
       "  <thead>\n",
       "    <tr style=\"text-align: right;\">\n",
       "      <th></th>\n",
       "      <th>Date</th>\n",
       "      <th>Plant_1_Daily_Irradiation</th>\n",
       "      <th>Plant_2_Daily_Irradiation</th>\n",
       "    </tr>\n",
       "  </thead>\n",
       "  <tbody>\n",
       "    <tr>\n",
       "      <th>0</th>\n",
       "      <td>2020-05-15</td>\n",
       "      <td>19.037010</td>\n",
       "      <td>28.559055</td>\n",
       "    </tr>\n",
       "    <tr>\n",
       "      <th>1</th>\n",
       "      <td>2020-05-16</td>\n",
       "      <td>18.651690</td>\n",
       "      <td>23.676573</td>\n",
       "    </tr>\n",
       "    <tr>\n",
       "      <th>2</th>\n",
       "      <td>2020-05-17</td>\n",
       "      <td>22.931378</td>\n",
       "      <td>21.233595</td>\n",
       "    </tr>\n",
       "    <tr>\n",
       "      <th>3</th>\n",
       "      <td>2020-05-18</td>\n",
       "      <td>15.266485</td>\n",
       "      <td>21.495780</td>\n",
       "    </tr>\n",
       "    <tr>\n",
       "      <th>4</th>\n",
       "      <td>2020-05-19</td>\n",
       "      <td>18.044861</td>\n",
       "      <td>20.345321</td>\n",
       "    </tr>\n",
       "    <tr>\n",
       "      <th>5</th>\n",
       "      <td>2020-05-20</td>\n",
       "      <td>18.245542</td>\n",
       "      <td>26.786871</td>\n",
       "    </tr>\n",
       "    <tr>\n",
       "      <th>6</th>\n",
       "      <td>2020-05-21</td>\n",
       "      <td>23.556170</td>\n",
       "      <td>27.191185</td>\n",
       "    </tr>\n",
       "    <tr>\n",
       "      <th>7</th>\n",
       "      <td>2020-05-22</td>\n",
       "      <td>22.119123</td>\n",
       "      <td>28.535843</td>\n",
       "    </tr>\n",
       "    <tr>\n",
       "      <th>8</th>\n",
       "      <td>2020-05-23</td>\n",
       "      <td>26.106652</td>\n",
       "      <td>28.159981</td>\n",
       "    </tr>\n",
       "    <tr>\n",
       "      <th>9</th>\n",
       "      <td>2020-05-24</td>\n",
       "      <td>24.937180</td>\n",
       "      <td>27.426044</td>\n",
       "    </tr>\n",
       "    <tr>\n",
       "      <th>10</th>\n",
       "      <td>2020-05-25</td>\n",
       "      <td>27.233366</td>\n",
       "      <td>26.556925</td>\n",
       "    </tr>\n",
       "    <tr>\n",
       "      <th>11</th>\n",
       "      <td>2020-05-26</td>\n",
       "      <td>24.250589</td>\n",
       "      <td>27.234674</td>\n",
       "    </tr>\n",
       "    <tr>\n",
       "      <th>12</th>\n",
       "      <td>2020-05-27</td>\n",
       "      <td>20.537566</td>\n",
       "      <td>27.431939</td>\n",
       "    </tr>\n",
       "    <tr>\n",
       "      <th>13</th>\n",
       "      <td>2020-05-28</td>\n",
       "      <td>26.032384</td>\n",
       "      <td>28.137027</td>\n",
       "    </tr>\n",
       "    <tr>\n",
       "      <th>14</th>\n",
       "      <td>2020-05-29</td>\n",
       "      <td>24.795661</td>\n",
       "      <td>23.237209</td>\n",
       "    </tr>\n",
       "    <tr>\n",
       "      <th>15</th>\n",
       "      <td>2020-05-30</td>\n",
       "      <td>21.875054</td>\n",
       "      <td>23.826997</td>\n",
       "    </tr>\n",
       "    <tr>\n",
       "      <th>16</th>\n",
       "      <td>2020-05-31</td>\n",
       "      <td>17.625458</td>\n",
       "      <td>19.203960</td>\n",
       "    </tr>\n",
       "    <tr>\n",
       "      <th>17</th>\n",
       "      <td>2020-06-01</td>\n",
       "      <td>17.649244</td>\n",
       "      <td>13.430264</td>\n",
       "    </tr>\n",
       "    <tr>\n",
       "      <th>18</th>\n",
       "      <td>2020-06-02</td>\n",
       "      <td>21.483649</td>\n",
       "      <td>23.748618</td>\n",
       "    </tr>\n",
       "    <tr>\n",
       "      <th>19</th>\n",
       "      <td>2020-06-03</td>\n",
       "      <td>21.927709</td>\n",
       "      <td>16.614638</td>\n",
       "    </tr>\n",
       "    <tr>\n",
       "      <th>20</th>\n",
       "      <td>2020-06-04</td>\n",
       "      <td>24.670974</td>\n",
       "      <td>20.182779</td>\n",
       "    </tr>\n",
       "    <tr>\n",
       "      <th>21</th>\n",
       "      <td>2020-06-05</td>\n",
       "      <td>23.192659</td>\n",
       "      <td>22.366602</td>\n",
       "    </tr>\n",
       "    <tr>\n",
       "      <th>22</th>\n",
       "      <td>2020-06-06</td>\n",
       "      <td>19.526878</td>\n",
       "      <td>25.963741</td>\n",
       "    </tr>\n",
       "    <tr>\n",
       "      <th>23</th>\n",
       "      <td>2020-06-07</td>\n",
       "      <td>24.402373</td>\n",
       "      <td>25.034945</td>\n",
       "    </tr>\n",
       "    <tr>\n",
       "      <th>24</th>\n",
       "      <td>2020-06-08</td>\n",
       "      <td>25.315527</td>\n",
       "      <td>27.038444</td>\n",
       "    </tr>\n",
       "    <tr>\n",
       "      <th>25</th>\n",
       "      <td>2020-06-09</td>\n",
       "      <td>24.754673</td>\n",
       "      <td>23.838025</td>\n",
       "    </tr>\n",
       "    <tr>\n",
       "      <th>26</th>\n",
       "      <td>2020-06-10</td>\n",
       "      <td>19.232292</td>\n",
       "      <td>18.576323</td>\n",
       "    </tr>\n",
       "    <tr>\n",
       "      <th>27</th>\n",
       "      <td>2020-06-11</td>\n",
       "      <td>15.533706</td>\n",
       "      <td>11.277962</td>\n",
       "    </tr>\n",
       "    <tr>\n",
       "      <th>28</th>\n",
       "      <td>2020-06-12</td>\n",
       "      <td>16.301551</td>\n",
       "      <td>13.102966</td>\n",
       "    </tr>\n",
       "    <tr>\n",
       "      <th>29</th>\n",
       "      <td>2020-06-13</td>\n",
       "      <td>25.389355</td>\n",
       "      <td>20.690174</td>\n",
       "    </tr>\n",
       "    <tr>\n",
       "      <th>30</th>\n",
       "      <td>2020-06-14</td>\n",
       "      <td>21.128221</td>\n",
       "      <td>22.033630</td>\n",
       "    </tr>\n",
       "    <tr>\n",
       "      <th>31</th>\n",
       "      <td>2020-06-15</td>\n",
       "      <td>19.768806</td>\n",
       "      <td>17.765047</td>\n",
       "    </tr>\n",
       "    <tr>\n",
       "      <th>32</th>\n",
       "      <td>2020-06-16</td>\n",
       "      <td>17.979125</td>\n",
       "      <td>15.845917</td>\n",
       "    </tr>\n",
       "    <tr>\n",
       "      <th>33</th>\n",
       "      <td>2020-06-17</td>\n",
       "      <td>16.988513</td>\n",
       "      <td>11.940765</td>\n",
       "    </tr>\n",
       "  </tbody>\n",
       "</table>\n",
       "</div>"
      ],
      "text/plain": [
       "         Date  Plant_1_Daily_Irradiation  Plant_2_Daily_Irradiation\n",
       "0  2020-05-15                  19.037010                  28.559055\n",
       "1  2020-05-16                  18.651690                  23.676573\n",
       "2  2020-05-17                  22.931378                  21.233595\n",
       "3  2020-05-18                  15.266485                  21.495780\n",
       "4  2020-05-19                  18.044861                  20.345321\n",
       "5  2020-05-20                  18.245542                  26.786871\n",
       "6  2020-05-21                  23.556170                  27.191185\n",
       "7  2020-05-22                  22.119123                  28.535843\n",
       "8  2020-05-23                  26.106652                  28.159981\n",
       "9  2020-05-24                  24.937180                  27.426044\n",
       "10 2020-05-25                  27.233366                  26.556925\n",
       "11 2020-05-26                  24.250589                  27.234674\n",
       "12 2020-05-27                  20.537566                  27.431939\n",
       "13 2020-05-28                  26.032384                  28.137027\n",
       "14 2020-05-29                  24.795661                  23.237209\n",
       "15 2020-05-30                  21.875054                  23.826997\n",
       "16 2020-05-31                  17.625458                  19.203960\n",
       "17 2020-06-01                  17.649244                  13.430264\n",
       "18 2020-06-02                  21.483649                  23.748618\n",
       "19 2020-06-03                  21.927709                  16.614638\n",
       "20 2020-06-04                  24.670974                  20.182779\n",
       "21 2020-06-05                  23.192659                  22.366602\n",
       "22 2020-06-06                  19.526878                  25.963741\n",
       "23 2020-06-07                  24.402373                  25.034945\n",
       "24 2020-06-08                  25.315527                  27.038444\n",
       "25 2020-06-09                  24.754673                  23.838025\n",
       "26 2020-06-10                  19.232292                  18.576323\n",
       "27 2020-06-11                  15.533706                  11.277962\n",
       "28 2020-06-12                  16.301551                  13.102966\n",
       "29 2020-06-13                  25.389355                  20.690174\n",
       "30 2020-06-14                  21.128221                  22.033630\n",
       "31 2020-06-15                  19.768806                  17.765047\n",
       "32 2020-06-16                  17.979125                  15.845917\n",
       "33 2020-06-17                  16.988513                  11.940765"
      ]
     },
     "execution_count": 83,
     "metadata": {},
     "output_type": "execute_result"
    }
   ],
   "source": [
    "pd.DataFrame({'Date':plant_1_irradiation.index,'Plant_1_Daily_Irradiation':plant_1_irradiation.values,'Plant_2_Daily_Irradiation':plant_2_irradiation.values})"
   ]
  },
  {
   "cell_type": "markdown",
   "metadata": {
    "papermill": {
     "duration": 0.054275,
     "end_time": "2020-09-24T15:42:46.710569",
     "exception": false,
     "start_time": "2020-09-24T15:42:46.656294",
     "status": "completed"
    },
    "tags": []
   },
   "source": [
    "# Q3. What is the max ambient and module temperature?"
   ]
  },
  {
   "cell_type": "code",
   "execution_count": 84,
   "metadata": {
    "execution": {
     "iopub.execute_input": "2020-09-24T15:42:46.833505Z",
     "iopub.status.busy": "2020-09-24T15:42:46.832748Z",
     "iopub.status.idle": "2020-09-24T15:42:46.839240Z",
     "shell.execute_reply": "2020-09-24T15:42:46.838513Z"
    },
    "papermill": {
     "duration": 0.073715,
     "end_time": "2020-09-24T15:42:46.839359",
     "exception": false,
     "start_time": "2020-09-24T15:42:46.765644",
     "status": "completed"
    },
    "tags": []
   },
   "outputs": [
    {
     "data": {
      "text/html": [
       "<div>\n",
       "<style scoped>\n",
       "    .dataframe tbody tr th:only-of-type {\n",
       "        vertical-align: middle;\n",
       "    }\n",
       "\n",
       "    .dataframe tbody tr th {\n",
       "        vertical-align: top;\n",
       "    }\n",
       "\n",
       "    .dataframe thead th {\n",
       "        text-align: right;\n",
       "    }\n",
       "</style>\n",
       "<table border=\"1\" class=\"dataframe\">\n",
       "  <thead>\n",
       "    <tr style=\"text-align: right;\">\n",
       "      <th></th>\n",
       "      <th>Max_Ambient</th>\n",
       "      <th>Max_Module</th>\n",
       "    </tr>\n",
       "  </thead>\n",
       "  <tbody>\n",
       "    <tr>\n",
       "      <th>Plant_1</th>\n",
       "      <td>35.252486</td>\n",
       "      <td>65.545714</td>\n",
       "    </tr>\n",
       "    <tr>\n",
       "      <th>Plant_2</th>\n",
       "      <td>39.181638</td>\n",
       "      <td>66.635953</td>\n",
       "    </tr>\n",
       "  </tbody>\n",
       "</table>\n",
       "</div>"
      ],
      "text/plain": [
       "         Max_Ambient  Max_Module\n",
       "Plant_1    35.252486   65.545714\n",
       "Plant_2    39.181638   66.635953"
      ]
     },
     "execution_count": 84,
     "metadata": {},
     "output_type": "execute_result"
    }
   ],
   "source": [
    "max_amb_modu_temp =pd.DataFrame({'Max_Ambient':[plant_1_sensor.AMBIENT_TEMPERATURE.max(),plant_2_sensor.AMBIENT_TEMPERATURE.max()],\n",
    "                                 'Max_Module':[plant_1_sensor.MODULE_TEMPERATURE.max(),plant_2_sensor.MODULE_TEMPERATURE.max()]},index=['Plant_1','Plant_2'])\n",
    "max_amb_modu_temp"
   ]
  },
  {
   "cell_type": "markdown",
   "metadata": {
    "papermill": {
     "duration": 0.055075,
     "end_time": "2020-09-24T15:42:46.950254",
     "exception": false,
     "start_time": "2020-09-24T15:42:46.895179",
     "status": "completed"
    },
    "tags": []
   },
   "source": [
    "# Q4. How many inverters are there for each plant?\n",
    "\n",
    ">Source key is a unique key for each inverter used in power plant"
   ]
  },
  {
   "cell_type": "code",
   "execution_count": 85,
   "metadata": {
    "execution": {
     "iopub.execute_input": "2020-09-24T15:42:47.103205Z",
     "iopub.status.busy": "2020-09-24T15:42:47.101782Z",
     "iopub.status.idle": "2020-09-24T15:42:47.107575Z",
     "shell.execute_reply": "2020-09-24T15:42:47.108336Z"
    },
    "papermill": {
     "duration": 0.102386,
     "end_time": "2020-09-24T15:42:47.108551",
     "exception": false,
     "start_time": "2020-09-24T15:42:47.006165",
     "status": "completed"
    },
    "tags": []
   },
   "outputs": [
    {
     "name": "stdout",
     "output_type": "stream",
     "text": [
      "No. of inverters in Plant_1 :  22\n",
      "No. of inverters in Plant_2 :  22\n"
     ]
    }
   ],
   "source": [
    "print(\"No. of inverters in Plant_1 : \",len(plant_1_generation.SOURCE_KEY.value_counts()))\n",
    "print(\"No. of inverters in Plant_2 : \",len(plant_2_generation.SOURCE_KEY.value_counts()))"
   ]
  },
  {
   "cell_type": "markdown",
   "metadata": {
    "papermill": {
     "duration": 0.055654,
     "end_time": "2020-09-24T15:42:47.221496",
     "exception": false,
     "start_time": "2020-09-24T15:42:47.165842",
     "status": "completed"
    },
    "tags": []
   },
   "source": [
    "# Q4. What is the maximum/minimum amount of DC/AC Power generated in a time interval/day?"
   ]
  },
  {
   "cell_type": "markdown",
   "metadata": {
    "papermill": {
     "duration": 0.056151,
     "end_time": "2020-09-24T15:42:47.337771",
     "exception": false,
     "start_time": "2020-09-24T15:42:47.281620",
     "status": "completed"
    },
    "tags": []
   },
   "source": [
    "# Plant_1_Min_Max"
   ]
  },
  {
   "cell_type": "code",
   "execution_count": 86,
   "metadata": {
    "execution": {
     "iopub.execute_input": "2020-09-24T15:42:47.459976Z",
     "iopub.status.busy": "2020-09-24T15:42:47.459207Z",
     "iopub.status.idle": "2020-09-24T15:42:47.494445Z",
     "shell.execute_reply": "2020-09-24T15:42:47.493814Z"
    },
    "papermill": {
     "duration": 0.100408,
     "end_time": "2020-09-24T15:42:47.494575",
     "exception": false,
     "start_time": "2020-09-24T15:42:47.394167",
     "status": "completed"
    },
    "tags": []
   },
   "outputs": [
    {
     "data": {
      "text/html": [
       "<div>\n",
       "<style scoped>\n",
       "    .dataframe tbody tr th:only-of-type {\n",
       "        vertical-align: middle;\n",
       "    }\n",
       "\n",
       "    .dataframe tbody tr th {\n",
       "        vertical-align: top;\n",
       "    }\n",
       "\n",
       "    .dataframe thead th {\n",
       "        text-align: right;\n",
       "    }\n",
       "</style>\n",
       "<table border=\"1\" class=\"dataframe\">\n",
       "  <thead>\n",
       "    <tr style=\"text-align: right;\">\n",
       "      <th></th>\n",
       "      <th>DC_Power_Max</th>\n",
       "      <th>DC_Power_Min</th>\n",
       "      <th>AC_Power_Max</th>\n",
       "      <th>AC_Power_Min</th>\n",
       "    </tr>\n",
       "    <tr>\n",
       "      <th>DATE</th>\n",
       "      <th></th>\n",
       "      <th></th>\n",
       "      <th></th>\n",
       "      <th></th>\n",
       "    </tr>\n",
       "  </thead>\n",
       "  <tbody>\n",
       "    <tr>\n",
       "      <th>2020-05-15</th>\n",
       "      <td>12319.14286</td>\n",
       "      <td>0.0</td>\n",
       "      <td>1201.442857</td>\n",
       "      <td>0.0</td>\n",
       "    </tr>\n",
       "    <tr>\n",
       "      <th>2020-05-16</th>\n",
       "      <td>11986.57143</td>\n",
       "      <td>0.0</td>\n",
       "      <td>1168.842857</td>\n",
       "      <td>0.0</td>\n",
       "    </tr>\n",
       "    <tr>\n",
       "      <th>2020-05-17</th>\n",
       "      <td>13217.42857</td>\n",
       "      <td>0.0</td>\n",
       "      <td>1288.900000</td>\n",
       "      <td>0.0</td>\n",
       "    </tr>\n",
       "    <tr>\n",
       "      <th>2020-05-18</th>\n",
       "      <td>13382.75000</td>\n",
       "      <td>0.0</td>\n",
       "      <td>1304.825000</td>\n",
       "      <td>0.0</td>\n",
       "    </tr>\n",
       "    <tr>\n",
       "      <th>2020-05-19</th>\n",
       "      <td>11911.50000</td>\n",
       "      <td>0.0</td>\n",
       "      <td>1162.600000</td>\n",
       "      <td>0.0</td>\n",
       "    </tr>\n",
       "    <tr>\n",
       "      <th>2020-05-20</th>\n",
       "      <td>13241.14286</td>\n",
       "      <td>0.0</td>\n",
       "      <td>1291.000000</td>\n",
       "      <td>0.0</td>\n",
       "    </tr>\n",
       "    <tr>\n",
       "      <th>2020-05-21</th>\n",
       "      <td>14038.28571</td>\n",
       "      <td>0.0</td>\n",
       "      <td>1368.700000</td>\n",
       "      <td>0.0</td>\n",
       "    </tr>\n",
       "    <tr>\n",
       "      <th>2020-05-22</th>\n",
       "      <td>14300.28571</td>\n",
       "      <td>0.0</td>\n",
       "      <td>1394.285714</td>\n",
       "      <td>0.0</td>\n",
       "    </tr>\n",
       "    <tr>\n",
       "      <th>2020-05-23</th>\n",
       "      <td>13848.00000</td>\n",
       "      <td>0.0</td>\n",
       "      <td>1350.214286</td>\n",
       "      <td>0.0</td>\n",
       "    </tr>\n",
       "    <tr>\n",
       "      <th>2020-05-24</th>\n",
       "      <td>13286.14286</td>\n",
       "      <td>0.0</td>\n",
       "      <td>1295.414286</td>\n",
       "      <td>0.0</td>\n",
       "    </tr>\n",
       "    <tr>\n",
       "      <th>2020-05-25</th>\n",
       "      <td>13060.71429</td>\n",
       "      <td>0.0</td>\n",
       "      <td>1273.428571</td>\n",
       "      <td>0.0</td>\n",
       "    </tr>\n",
       "    <tr>\n",
       "      <th>2020-05-26</th>\n",
       "      <td>13434.42857</td>\n",
       "      <td>0.0</td>\n",
       "      <td>1309.857143</td>\n",
       "      <td>0.0</td>\n",
       "    </tr>\n",
       "    <tr>\n",
       "      <th>2020-05-27</th>\n",
       "      <td>13402.87500</td>\n",
       "      <td>0.0</td>\n",
       "      <td>1306.787500</td>\n",
       "      <td>0.0</td>\n",
       "    </tr>\n",
       "    <tr>\n",
       "      <th>2020-05-28</th>\n",
       "      <td>13810.57143</td>\n",
       "      <td>0.0</td>\n",
       "      <td>1346.500000</td>\n",
       "      <td>0.0</td>\n",
       "    </tr>\n",
       "    <tr>\n",
       "      <th>2020-05-29</th>\n",
       "      <td>13236.57143</td>\n",
       "      <td>0.0</td>\n",
       "      <td>1290.571429</td>\n",
       "      <td>0.0</td>\n",
       "    </tr>\n",
       "    <tr>\n",
       "      <th>2020-05-30</th>\n",
       "      <td>14224.85714</td>\n",
       "      <td>0.0</td>\n",
       "      <td>1386.942857</td>\n",
       "      <td>0.0</td>\n",
       "    </tr>\n",
       "    <tr>\n",
       "      <th>2020-05-31</th>\n",
       "      <td>13774.14286</td>\n",
       "      <td>0.0</td>\n",
       "      <td>1342.985714</td>\n",
       "      <td>0.0</td>\n",
       "    </tr>\n",
       "    <tr>\n",
       "      <th>2020-06-01</th>\n",
       "      <td>14019.25000</td>\n",
       "      <td>0.0</td>\n",
       "      <td>1366.887500</td>\n",
       "      <td>0.0</td>\n",
       "    </tr>\n",
       "    <tr>\n",
       "      <th>2020-06-02</th>\n",
       "      <td>13579.57143</td>\n",
       "      <td>0.0</td>\n",
       "      <td>1324.200000</td>\n",
       "      <td>0.0</td>\n",
       "    </tr>\n",
       "    <tr>\n",
       "      <th>2020-06-03</th>\n",
       "      <td>13579.42857</td>\n",
       "      <td>0.0</td>\n",
       "      <td>1324.000000</td>\n",
       "      <td>0.0</td>\n",
       "    </tr>\n",
       "    <tr>\n",
       "      <th>2020-06-04</th>\n",
       "      <td>14413.42857</td>\n",
       "      <td>0.0</td>\n",
       "      <td>1405.300000</td>\n",
       "      <td>0.0</td>\n",
       "    </tr>\n",
       "    <tr>\n",
       "      <th>2020-06-05</th>\n",
       "      <td>13598.57143</td>\n",
       "      <td>0.0</td>\n",
       "      <td>1325.871429</td>\n",
       "      <td>0.0</td>\n",
       "    </tr>\n",
       "    <tr>\n",
       "      <th>2020-06-06</th>\n",
       "      <td>13958.14286</td>\n",
       "      <td>0.0</td>\n",
       "      <td>1360.914286</td>\n",
       "      <td>0.0</td>\n",
       "    </tr>\n",
       "    <tr>\n",
       "      <th>2020-06-07</th>\n",
       "      <td>14091.71429</td>\n",
       "      <td>0.0</td>\n",
       "      <td>1373.928571</td>\n",
       "      <td>0.0</td>\n",
       "    </tr>\n",
       "    <tr>\n",
       "      <th>2020-06-08</th>\n",
       "      <td>13326.00000</td>\n",
       "      <td>0.0</td>\n",
       "      <td>1299.275000</td>\n",
       "      <td>0.0</td>\n",
       "    </tr>\n",
       "    <tr>\n",
       "      <th>2020-06-09</th>\n",
       "      <td>13702.71429</td>\n",
       "      <td>0.0</td>\n",
       "      <td>1336.000000</td>\n",
       "      <td>0.0</td>\n",
       "    </tr>\n",
       "    <tr>\n",
       "      <th>2020-06-10</th>\n",
       "      <td>13907.85714</td>\n",
       "      <td>0.0</td>\n",
       "      <td>1356.000000</td>\n",
       "      <td>0.0</td>\n",
       "    </tr>\n",
       "    <tr>\n",
       "      <th>2020-06-11</th>\n",
       "      <td>11249.42857</td>\n",
       "      <td>0.0</td>\n",
       "      <td>1098.328571</td>\n",
       "      <td>0.0</td>\n",
       "    </tr>\n",
       "    <tr>\n",
       "      <th>2020-06-12</th>\n",
       "      <td>10813.14286</td>\n",
       "      <td>0.0</td>\n",
       "      <td>1056.271429</td>\n",
       "      <td>0.0</td>\n",
       "    </tr>\n",
       "    <tr>\n",
       "      <th>2020-06-13</th>\n",
       "      <td>13743.37500</td>\n",
       "      <td>0.0</td>\n",
       "      <td>1339.962500</td>\n",
       "      <td>0.0</td>\n",
       "    </tr>\n",
       "    <tr>\n",
       "      <th>2020-06-14</th>\n",
       "      <td>14471.12500</td>\n",
       "      <td>0.0</td>\n",
       "      <td>1410.950000</td>\n",
       "      <td>0.0</td>\n",
       "    </tr>\n",
       "    <tr>\n",
       "      <th>2020-06-15</th>\n",
       "      <td>12640.00000</td>\n",
       "      <td>0.0</td>\n",
       "      <td>1232.814286</td>\n",
       "      <td>0.0</td>\n",
       "    </tr>\n",
       "    <tr>\n",
       "      <th>2020-06-16</th>\n",
       "      <td>12351.00000</td>\n",
       "      <td>0.0</td>\n",
       "      <td>1205.042857</td>\n",
       "      <td>0.0</td>\n",
       "    </tr>\n",
       "    <tr>\n",
       "      <th>2020-06-17</th>\n",
       "      <td>13869.57143</td>\n",
       "      <td>0.0</td>\n",
       "      <td>1352.271429</td>\n",
       "      <td>0.0</td>\n",
       "    </tr>\n",
       "  </tbody>\n",
       "</table>\n",
       "</div>"
      ],
      "text/plain": [
       "            DC_Power_Max  DC_Power_Min  AC_Power_Max  AC_Power_Min\n",
       "DATE                                                              \n",
       "2020-05-15   12319.14286           0.0   1201.442857           0.0\n",
       "2020-05-16   11986.57143           0.0   1168.842857           0.0\n",
       "2020-05-17   13217.42857           0.0   1288.900000           0.0\n",
       "2020-05-18   13382.75000           0.0   1304.825000           0.0\n",
       "2020-05-19   11911.50000           0.0   1162.600000           0.0\n",
       "2020-05-20   13241.14286           0.0   1291.000000           0.0\n",
       "2020-05-21   14038.28571           0.0   1368.700000           0.0\n",
       "2020-05-22   14300.28571           0.0   1394.285714           0.0\n",
       "2020-05-23   13848.00000           0.0   1350.214286           0.0\n",
       "2020-05-24   13286.14286           0.0   1295.414286           0.0\n",
       "2020-05-25   13060.71429           0.0   1273.428571           0.0\n",
       "2020-05-26   13434.42857           0.0   1309.857143           0.0\n",
       "2020-05-27   13402.87500           0.0   1306.787500           0.0\n",
       "2020-05-28   13810.57143           0.0   1346.500000           0.0\n",
       "2020-05-29   13236.57143           0.0   1290.571429           0.0\n",
       "2020-05-30   14224.85714           0.0   1386.942857           0.0\n",
       "2020-05-31   13774.14286           0.0   1342.985714           0.0\n",
       "2020-06-01   14019.25000           0.0   1366.887500           0.0\n",
       "2020-06-02   13579.57143           0.0   1324.200000           0.0\n",
       "2020-06-03   13579.42857           0.0   1324.000000           0.0\n",
       "2020-06-04   14413.42857           0.0   1405.300000           0.0\n",
       "2020-06-05   13598.57143           0.0   1325.871429           0.0\n",
       "2020-06-06   13958.14286           0.0   1360.914286           0.0\n",
       "2020-06-07   14091.71429           0.0   1373.928571           0.0\n",
       "2020-06-08   13326.00000           0.0   1299.275000           0.0\n",
       "2020-06-09   13702.71429           0.0   1336.000000           0.0\n",
       "2020-06-10   13907.85714           0.0   1356.000000           0.0\n",
       "2020-06-11   11249.42857           0.0   1098.328571           0.0\n",
       "2020-06-12   10813.14286           0.0   1056.271429           0.0\n",
       "2020-06-13   13743.37500           0.0   1339.962500           0.0\n",
       "2020-06-14   14471.12500           0.0   1410.950000           0.0\n",
       "2020-06-15   12640.00000           0.0   1232.814286           0.0\n",
       "2020-06-16   12351.00000           0.0   1205.042857           0.0\n",
       "2020-06-17   13869.57143           0.0   1352.271429           0.0"
      ]
     },
     "execution_count": 86,
     "metadata": {},
     "output_type": "execute_result"
    }
   ],
   "source": [
    "pd.DataFrame({'DC_Power_Max':plant_1_generation.groupby(['DATE']).DC_POWER.max().values,'DC_Power_Min':plant_1_generation.groupby(['DATE']).DC_POWER.min().values,\n",
    "              'AC_Power_Max':plant_1_generation.groupby(['DATE']).AC_POWER.max().values,'AC_Power_Min':plant_1_generation.groupby(['DATE']).AC_POWER.min().values},\n",
    "             index=plant_1_generation.groupby(['DATE']).DC_POWER.max().index)"
   ]
  },
  {
   "cell_type": "markdown",
   "metadata": {
    "papermill": {
     "duration": 0.057278,
     "end_time": "2020-09-24T15:42:47.609630",
     "exception": false,
     "start_time": "2020-09-24T15:42:47.552352",
     "status": "completed"
    },
    "tags": []
   },
   "source": [
    "# Plant_2_Min_Max"
   ]
  },
  {
   "cell_type": "code",
   "execution_count": 87,
   "metadata": {
    "execution": {
     "iopub.execute_input": "2020-09-24T15:42:47.732948Z",
     "iopub.status.busy": "2020-09-24T15:42:47.732206Z",
     "iopub.status.idle": "2020-09-24T15:42:47.765198Z",
     "shell.execute_reply": "2020-09-24T15:42:47.764561Z"
    },
    "papermill": {
     "duration": 0.098772,
     "end_time": "2020-09-24T15:42:47.765320",
     "exception": false,
     "start_time": "2020-09-24T15:42:47.666548",
     "status": "completed"
    },
    "tags": []
   },
   "outputs": [
    {
     "data": {
      "text/html": [
       "<div>\n",
       "<style scoped>\n",
       "    .dataframe tbody tr th:only-of-type {\n",
       "        vertical-align: middle;\n",
       "    }\n",
       "\n",
       "    .dataframe tbody tr th {\n",
       "        vertical-align: top;\n",
       "    }\n",
       "\n",
       "    .dataframe thead th {\n",
       "        text-align: right;\n",
       "    }\n",
       "</style>\n",
       "<table border=\"1\" class=\"dataframe\">\n",
       "  <thead>\n",
       "    <tr style=\"text-align: right;\">\n",
       "      <th></th>\n",
       "      <th>DC_Power_Max</th>\n",
       "      <th>DC_Power_Min</th>\n",
       "      <th>AC_Power_Max</th>\n",
       "      <th>AC_Power_Min</th>\n",
       "    </tr>\n",
       "    <tr>\n",
       "      <th>DATE</th>\n",
       "      <th></th>\n",
       "      <th></th>\n",
       "      <th></th>\n",
       "      <th></th>\n",
       "    </tr>\n",
       "  </thead>\n",
       "  <tbody>\n",
       "    <tr>\n",
       "      <th>2020-05-15</th>\n",
       "      <td>1331.966667</td>\n",
       "      <td>0.0</td>\n",
       "      <td>1298.673333</td>\n",
       "      <td>0.0</td>\n",
       "    </tr>\n",
       "    <tr>\n",
       "      <th>2020-05-16</th>\n",
       "      <td>1314.426667</td>\n",
       "      <td>0.0</td>\n",
       "      <td>1281.573333</td>\n",
       "      <td>0.0</td>\n",
       "    </tr>\n",
       "    <tr>\n",
       "      <th>2020-05-17</th>\n",
       "      <td>1152.142857</td>\n",
       "      <td>0.0</td>\n",
       "      <td>1124.492857</td>\n",
       "      <td>0.0</td>\n",
       "    </tr>\n",
       "    <tr>\n",
       "      <th>2020-05-18</th>\n",
       "      <td>1273.706667</td>\n",
       "      <td>0.0</td>\n",
       "      <td>1241.866667</td>\n",
       "      <td>0.0</td>\n",
       "    </tr>\n",
       "    <tr>\n",
       "      <th>2020-05-19</th>\n",
       "      <td>1361.220000</td>\n",
       "      <td>0.0</td>\n",
       "      <td>1327.193333</td>\n",
       "      <td>0.0</td>\n",
       "    </tr>\n",
       "    <tr>\n",
       "      <th>2020-05-20</th>\n",
       "      <td>1336.207143</td>\n",
       "      <td>0.0</td>\n",
       "      <td>1302.792857</td>\n",
       "      <td>0.0</td>\n",
       "    </tr>\n",
       "    <tr>\n",
       "      <th>2020-05-21</th>\n",
       "      <td>1340.066667</td>\n",
       "      <td>0.0</td>\n",
       "      <td>1306.573333</td>\n",
       "      <td>0.0</td>\n",
       "    </tr>\n",
       "    <tr>\n",
       "      <th>2020-05-22</th>\n",
       "      <td>1333.873333</td>\n",
       "      <td>0.0</td>\n",
       "      <td>1300.520000</td>\n",
       "      <td>0.0</td>\n",
       "    </tr>\n",
       "    <tr>\n",
       "      <th>2020-05-23</th>\n",
       "      <td>1325.600000</td>\n",
       "      <td>0.0</td>\n",
       "      <td>1292.471429</td>\n",
       "      <td>0.0</td>\n",
       "    </tr>\n",
       "    <tr>\n",
       "      <th>2020-05-24</th>\n",
       "      <td>1286.007143</td>\n",
       "      <td>0.0</td>\n",
       "      <td>1253.857143</td>\n",
       "      <td>0.0</td>\n",
       "    </tr>\n",
       "    <tr>\n",
       "      <th>2020-05-25</th>\n",
       "      <td>1315.073333</td>\n",
       "      <td>0.0</td>\n",
       "      <td>1282.200000</td>\n",
       "      <td>0.0</td>\n",
       "    </tr>\n",
       "    <tr>\n",
       "      <th>2020-05-26</th>\n",
       "      <td>1320.686667</td>\n",
       "      <td>0.0</td>\n",
       "      <td>1287.673333</td>\n",
       "      <td>0.0</td>\n",
       "    </tr>\n",
       "    <tr>\n",
       "      <th>2020-05-27</th>\n",
       "      <td>1316.500000</td>\n",
       "      <td>0.0</td>\n",
       "      <td>1283.606667</td>\n",
       "      <td>0.0</td>\n",
       "    </tr>\n",
       "    <tr>\n",
       "      <th>2020-05-28</th>\n",
       "      <td>1316.114286</td>\n",
       "      <td>0.0</td>\n",
       "      <td>1283.214286</td>\n",
       "      <td>0.0</td>\n",
       "    </tr>\n",
       "    <tr>\n",
       "      <th>2020-05-29</th>\n",
       "      <td>1147.906667</td>\n",
       "      <td>0.0</td>\n",
       "      <td>1120.546667</td>\n",
       "      <td>0.0</td>\n",
       "    </tr>\n",
       "    <tr>\n",
       "      <th>2020-05-30</th>\n",
       "      <td>1347.086667</td>\n",
       "      <td>0.0</td>\n",
       "      <td>1313.566667</td>\n",
       "      <td>0.0</td>\n",
       "    </tr>\n",
       "    <tr>\n",
       "      <th>2020-05-31</th>\n",
       "      <td>1343.860000</td>\n",
       "      <td>0.0</td>\n",
       "      <td>1310.640000</td>\n",
       "      <td>0.0</td>\n",
       "    </tr>\n",
       "    <tr>\n",
       "      <th>2020-06-01</th>\n",
       "      <td>1276.028571</td>\n",
       "      <td>0.0</td>\n",
       "      <td>1244.692857</td>\n",
       "      <td>0.0</td>\n",
       "    </tr>\n",
       "    <tr>\n",
       "      <th>2020-06-02</th>\n",
       "      <td>1375.413333</td>\n",
       "      <td>0.0</td>\n",
       "      <td>1341.040000</td>\n",
       "      <td>0.0</td>\n",
       "    </tr>\n",
       "    <tr>\n",
       "      <th>2020-06-03</th>\n",
       "      <td>1254.385714</td>\n",
       "      <td>0.0</td>\n",
       "      <td>1223.871429</td>\n",
       "      <td>0.0</td>\n",
       "    </tr>\n",
       "    <tr>\n",
       "      <th>2020-06-04</th>\n",
       "      <td>1414.120000</td>\n",
       "      <td>0.0</td>\n",
       "      <td>1378.766667</td>\n",
       "      <td>0.0</td>\n",
       "    </tr>\n",
       "    <tr>\n",
       "      <th>2020-06-05</th>\n",
       "      <td>1420.933333</td>\n",
       "      <td>0.0</td>\n",
       "      <td>1385.420000</td>\n",
       "      <td>0.0</td>\n",
       "    </tr>\n",
       "    <tr>\n",
       "      <th>2020-06-06</th>\n",
       "      <td>1402.600000</td>\n",
       "      <td>0.0</td>\n",
       "      <td>1367.521429</td>\n",
       "      <td>0.0</td>\n",
       "    </tr>\n",
       "    <tr>\n",
       "      <th>2020-06-07</th>\n",
       "      <td>1406.433333</td>\n",
       "      <td>0.0</td>\n",
       "      <td>1371.280000</td>\n",
       "      <td>0.0</td>\n",
       "    </tr>\n",
       "    <tr>\n",
       "      <th>2020-06-08</th>\n",
       "      <td>1391.500000</td>\n",
       "      <td>0.0</td>\n",
       "      <td>1356.692857</td>\n",
       "      <td>0.0</td>\n",
       "    </tr>\n",
       "    <tr>\n",
       "      <th>2020-06-09</th>\n",
       "      <td>1295.633333</td>\n",
       "      <td>0.0</td>\n",
       "      <td>1263.640000</td>\n",
       "      <td>0.0</td>\n",
       "    </tr>\n",
       "    <tr>\n",
       "      <th>2020-06-10</th>\n",
       "      <td>1361.126667</td>\n",
       "      <td>0.0</td>\n",
       "      <td>1327.266667</td>\n",
       "      <td>0.0</td>\n",
       "    </tr>\n",
       "    <tr>\n",
       "      <th>2020-06-11</th>\n",
       "      <td>802.440000</td>\n",
       "      <td>0.0</td>\n",
       "      <td>784.773333</td>\n",
       "      <td>0.0</td>\n",
       "    </tr>\n",
       "    <tr>\n",
       "      <th>2020-06-12</th>\n",
       "      <td>843.292857</td>\n",
       "      <td>0.0</td>\n",
       "      <td>825.192857</td>\n",
       "      <td>0.0</td>\n",
       "    </tr>\n",
       "    <tr>\n",
       "      <th>2020-06-13</th>\n",
       "      <td>1271.146667</td>\n",
       "      <td>0.0</td>\n",
       "      <td>1239.953333</td>\n",
       "      <td>0.0</td>\n",
       "    </tr>\n",
       "    <tr>\n",
       "      <th>2020-06-14</th>\n",
       "      <td>1362.060000</td>\n",
       "      <td>0.0</td>\n",
       "      <td>1328.213333</td>\n",
       "      <td>0.0</td>\n",
       "    </tr>\n",
       "    <tr>\n",
       "      <th>2020-06-15</th>\n",
       "      <td>1288.278571</td>\n",
       "      <td>0.0</td>\n",
       "      <td>1256.671429</td>\n",
       "      <td>0.0</td>\n",
       "    </tr>\n",
       "    <tr>\n",
       "      <th>2020-06-16</th>\n",
       "      <td>1133.240000</td>\n",
       "      <td>0.0</td>\n",
       "      <td>1106.440000</td>\n",
       "      <td>0.0</td>\n",
       "    </tr>\n",
       "    <tr>\n",
       "      <th>2020-06-17</th>\n",
       "      <td>848.146667</td>\n",
       "      <td>0.0</td>\n",
       "      <td>829.293333</td>\n",
       "      <td>0.0</td>\n",
       "    </tr>\n",
       "  </tbody>\n",
       "</table>\n",
       "</div>"
      ],
      "text/plain": [
       "            DC_Power_Max  DC_Power_Min  AC_Power_Max  AC_Power_Min\n",
       "DATE                                                              \n",
       "2020-05-15   1331.966667           0.0   1298.673333           0.0\n",
       "2020-05-16   1314.426667           0.0   1281.573333           0.0\n",
       "2020-05-17   1152.142857           0.0   1124.492857           0.0\n",
       "2020-05-18   1273.706667           0.0   1241.866667           0.0\n",
       "2020-05-19   1361.220000           0.0   1327.193333           0.0\n",
       "2020-05-20   1336.207143           0.0   1302.792857           0.0\n",
       "2020-05-21   1340.066667           0.0   1306.573333           0.0\n",
       "2020-05-22   1333.873333           0.0   1300.520000           0.0\n",
       "2020-05-23   1325.600000           0.0   1292.471429           0.0\n",
       "2020-05-24   1286.007143           0.0   1253.857143           0.0\n",
       "2020-05-25   1315.073333           0.0   1282.200000           0.0\n",
       "2020-05-26   1320.686667           0.0   1287.673333           0.0\n",
       "2020-05-27   1316.500000           0.0   1283.606667           0.0\n",
       "2020-05-28   1316.114286           0.0   1283.214286           0.0\n",
       "2020-05-29   1147.906667           0.0   1120.546667           0.0\n",
       "2020-05-30   1347.086667           0.0   1313.566667           0.0\n",
       "2020-05-31   1343.860000           0.0   1310.640000           0.0\n",
       "2020-06-01   1276.028571           0.0   1244.692857           0.0\n",
       "2020-06-02   1375.413333           0.0   1341.040000           0.0\n",
       "2020-06-03   1254.385714           0.0   1223.871429           0.0\n",
       "2020-06-04   1414.120000           0.0   1378.766667           0.0\n",
       "2020-06-05   1420.933333           0.0   1385.420000           0.0\n",
       "2020-06-06   1402.600000           0.0   1367.521429           0.0\n",
       "2020-06-07   1406.433333           0.0   1371.280000           0.0\n",
       "2020-06-08   1391.500000           0.0   1356.692857           0.0\n",
       "2020-06-09   1295.633333           0.0   1263.640000           0.0\n",
       "2020-06-10   1361.126667           0.0   1327.266667           0.0\n",
       "2020-06-11    802.440000           0.0    784.773333           0.0\n",
       "2020-06-12    843.292857           0.0    825.192857           0.0\n",
       "2020-06-13   1271.146667           0.0   1239.953333           0.0\n",
       "2020-06-14   1362.060000           0.0   1328.213333           0.0\n",
       "2020-06-15   1288.278571           0.0   1256.671429           0.0\n",
       "2020-06-16   1133.240000           0.0   1106.440000           0.0\n",
       "2020-06-17    848.146667           0.0    829.293333           0.0"
      ]
     },
     "execution_count": 87,
     "metadata": {},
     "output_type": "execute_result"
    }
   ],
   "source": [
    "pd.DataFrame({'DC_Power_Max':plant_2_generation.groupby(['DATE']).DC_POWER.max().values,'DC_Power_Min':plant_2_generation.groupby(['DATE']).DC_POWER.min().values,\n",
    "              'AC_Power_Max':plant_2_generation.groupby(['DATE']).AC_POWER.max().values,'AC_Power_Min':plant_2_generation.groupby(['DATE']).AC_POWER.min().values},\n",
    "             index=plant_2_generation.groupby(['DATE']).DC_POWER.max().index)"
   ]
  },
  {
   "cell_type": "markdown",
   "metadata": {
    "papermill": {
     "duration": 0.057716,
     "end_time": "2020-09-24T15:42:47.881348",
     "exception": false,
     "start_time": "2020-09-24T15:42:47.823632",
     "status": "completed"
    },
    "tags": []
   },
   "source": [
    "# Q5. Which inverter (source_key) has produced maximum DC/AC power?\n",
    "\n",
    "**steps :**\n",
    "\n",
    ">In a data frame create 3 key-value pairs of Max_DC,Mac_AC, and the source key of those inverters which are generating these outputs.\n",
    "\n",
    ">Group data by Source_Key and find aggregate sum and then find maximum values by sorting them in descending order."
   ]
  },
  {
   "cell_type": "code",
   "execution_count": 88,
   "metadata": {
    "execution": {
     "iopub.execute_input": "2020-09-24T15:42:48.011081Z",
     "iopub.status.busy": "2020-09-24T15:42:48.010296Z",
     "iopub.status.idle": "2020-09-24T15:42:48.074705Z",
     "shell.execute_reply": "2020-09-24T15:42:48.075251Z"
    },
    "papermill": {
     "duration": 0.135867,
     "end_time": "2020-09-24T15:42:48.075410",
     "exception": false,
     "start_time": "2020-09-24T15:42:47.939543",
     "status": "completed"
    },
    "tags": []
   },
   "outputs": [
    {
     "data": {
      "text/html": [
       "<div>\n",
       "<style scoped>\n",
       "    .dataframe tbody tr th:only-of-type {\n",
       "        vertical-align: middle;\n",
       "    }\n",
       "\n",
       "    .dataframe tbody tr th {\n",
       "        vertical-align: top;\n",
       "    }\n",
       "\n",
       "    .dataframe thead th {\n",
       "        text-align: right;\n",
       "    }\n",
       "</style>\n",
       "<table border=\"1\" class=\"dataframe\">\n",
       "  <thead>\n",
       "    <tr style=\"text-align: right;\">\n",
       "      <th></th>\n",
       "      <th>Inverter_Source_Key</th>\n",
       "      <th>Max_DC</th>\n",
       "      <th>Max_AC</th>\n",
       "    </tr>\n",
       "  </thead>\n",
       "  <tbody>\n",
       "    <tr>\n",
       "      <th>Plant_1</th>\n",
       "      <td>adLQvlD726eNBSB</td>\n",
       "      <td>1.019778e+07</td>\n",
       "      <td>997125.156663</td>\n",
       "    </tr>\n",
       "    <tr>\n",
       "      <th>Plant_2</th>\n",
       "      <td>Mx2yZCDsyf6DPfv</td>\n",
       "      <td>9.106173e+05</td>\n",
       "      <td>890317.270321</td>\n",
       "    </tr>\n",
       "  </tbody>\n",
       "</table>\n",
       "</div>"
      ],
      "text/plain": [
       "        Inverter_Source_Key        Max_DC         Max_AC\n",
       "Plant_1     adLQvlD726eNBSB  1.019778e+07  997125.156663\n",
       "Plant_2     Mx2yZCDsyf6DPfv  9.106173e+05  890317.270321"
      ]
     },
     "execution_count": 88,
     "metadata": {},
     "output_type": "execute_result"
    }
   ],
   "source": [
    "dc_ac =pd.DataFrame({'Inverter_Source_Key':[plant_1_generation.groupby(['SOURCE_KEY']).DC_POWER.sum().sort_values(ascending=False).index[0],\n",
    "                    plant_2_generation.groupby(['SOURCE_KEY']).DC_POWER.sum().sort_values(ascending=False).index[0]],\n",
    "                    'Max_DC':[plant_1_generation.groupby(['SOURCE_KEY']).DC_POWER.sum().max(),plant_2_generation.groupby(['SOURCE_KEY']).DC_POWER.sum().max()],\n",
    "                        'Max_AC':[plant_1_generation.groupby(['SOURCE_KEY']).AC_POWER.sum().max(),plant_2_generation.groupby(['SOURCE_KEY']).AC_POWER.sum().max()],\n",
    "                     },index=['Plant_1','Plant_2'])\n",
    "dc_ac"
   ]
  },
  {
   "cell_type": "markdown",
   "metadata": {
    "papermill": {
     "duration": 0.05909,
     "end_time": "2020-09-24T15:42:48.194511",
     "exception": false,
     "start_time": "2020-09-24T15:42:48.135421",
     "status": "completed"
    },
    "tags": []
   },
   "source": [
    "# Q6. Rank the inverters based on the DC/AC power they produce "
   ]
  },
  {
   "cell_type": "markdown",
   "metadata": {
    "papermill": {
     "duration": 0.058741,
     "end_time": "2020-09-24T15:42:48.312235",
     "exception": false,
     "start_time": "2020-09-24T15:42:48.253494",
     "status": "completed"
    },
    "tags": []
   },
   "source": [
    "# Plant_1"
   ]
  },
  {
   "cell_type": "code",
   "execution_count": 89,
   "metadata": {
    "execution": {
     "iopub.execute_input": "2020-09-24T15:42:48.442554Z",
     "iopub.status.busy": "2020-09-24T15:42:48.441774Z",
     "iopub.status.idle": "2020-09-24T15:42:48.458969Z",
     "shell.execute_reply": "2020-09-24T15:42:48.458356Z"
    },
    "papermill": {
     "duration": 0.087627,
     "end_time": "2020-09-24T15:42:48.459108",
     "exception": false,
     "start_time": "2020-09-24T15:42:48.371481",
     "status": "completed"
    },
    "tags": []
   },
   "outputs": [],
   "source": [
    "index_dc_p1 = plant_1_generation.groupby(['SOURCE_KEY']).DC_POWER.sum().sort_values(ascending=False).index\n",
    "index_ac_p1 = plant_1_generation.groupby(['SOURCE_KEY']).AC_POWER.sum().sort_values(ascending=False).index"
   ]
  },
  {
   "cell_type": "code",
   "execution_count": 90,
   "metadata": {
    "execution": {
     "iopub.execute_input": "2020-09-24T15:42:48.587190Z",
     "iopub.status.busy": "2020-09-24T15:42:48.586267Z",
     "iopub.status.idle": "2020-09-24T15:42:48.590370Z",
     "shell.execute_reply": "2020-09-24T15:42:48.589670Z"
    },
    "papermill": {
     "duration": 0.071799,
     "end_time": "2020-09-24T15:42:48.590496",
     "exception": false,
     "start_time": "2020-09-24T15:42:48.518697",
     "status": "completed"
    },
    "tags": []
   },
   "outputs": [
    {
     "data": {
      "text/plain": [
       "[1, 2, 3, 4, 5, 6, 7, 8, 9, 10, 11, 12, 13, 14, 15, 16, 17, 18, 19, 20, 21, 22]"
      ]
     },
     "execution_count": 90,
     "metadata": {},
     "output_type": "execute_result"
    }
   ],
   "source": [
    "#Reason to create this is so that we can create a single dataframe for both AC and DC production ranking.\n",
    "#Through this we can give excat rating to each inverter w.r.t their production.\n",
    "\n",
    "ac_dict_p1 = dict() \n",
    "for i,j in zip(index_dc_p1,range(1,23,1)):\n",
    "    ac_dict_p1[i] = j\n",
    "ac_pr_per_dc_rank = []\n",
    "for i in index_dc_p1:\n",
    "    ac_pr_per_dc_rank.append(ac_dict_p1[i])\n",
    "ac_pr_per_dc_rank"
   ]
  },
  {
   "cell_type": "code",
   "execution_count": 91,
   "metadata": {
    "execution": {
     "iopub.execute_input": "2020-09-24T15:42:48.725815Z",
     "iopub.status.busy": "2020-09-24T15:42:48.724696Z",
     "iopub.status.idle": "2020-09-24T15:42:48.729042Z",
     "shell.execute_reply": "2020-09-24T15:42:48.729610Z"
    },
    "papermill": {
     "duration": 0.079271,
     "end_time": "2020-09-24T15:42:48.729755",
     "exception": false,
     "start_time": "2020-09-24T15:42:48.650484",
     "status": "completed"
    },
    "tags": []
   },
   "outputs": [
    {
     "data": {
      "text/html": [
       "<div>\n",
       "<style scoped>\n",
       "    .dataframe tbody tr th:only-of-type {\n",
       "        vertical-align: middle;\n",
       "    }\n",
       "\n",
       "    .dataframe tbody tr th {\n",
       "        vertical-align: top;\n",
       "    }\n",
       "\n",
       "    .dataframe thead th {\n",
       "        text-align: right;\n",
       "    }\n",
       "</style>\n",
       "<table border=\"1\" class=\"dataframe\">\n",
       "  <thead>\n",
       "    <tr style=\"text-align: right;\">\n",
       "      <th></th>\n",
       "      <th>Plant_1_Inverter_Source_Key</th>\n",
       "      <th>DC_Production_Rank</th>\n",
       "      <th>AC_Production_Rank</th>\n",
       "    </tr>\n",
       "  </thead>\n",
       "  <tbody>\n",
       "    <tr>\n",
       "      <th>0</th>\n",
       "      <td>adLQvlD726eNBSB</td>\n",
       "      <td>1</td>\n",
       "      <td>1</td>\n",
       "    </tr>\n",
       "    <tr>\n",
       "      <th>1</th>\n",
       "      <td>1IF53ai7Xc0U56Y</td>\n",
       "      <td>2</td>\n",
       "      <td>2</td>\n",
       "    </tr>\n",
       "    <tr>\n",
       "      <th>2</th>\n",
       "      <td>VHMLBKoKgIrUVDU</td>\n",
       "      <td>3</td>\n",
       "      <td>3</td>\n",
       "    </tr>\n",
       "    <tr>\n",
       "      <th>3</th>\n",
       "      <td>3PZuoBAID5Wc2HD</td>\n",
       "      <td>4</td>\n",
       "      <td>4</td>\n",
       "    </tr>\n",
       "    <tr>\n",
       "      <th>4</th>\n",
       "      <td>McdE0feGgRqW7Ca</td>\n",
       "      <td>5</td>\n",
       "      <td>5</td>\n",
       "    </tr>\n",
       "    <tr>\n",
       "      <th>5</th>\n",
       "      <td>ZnxXDlPa8U1GXgE</td>\n",
       "      <td>6</td>\n",
       "      <td>6</td>\n",
       "    </tr>\n",
       "    <tr>\n",
       "      <th>6</th>\n",
       "      <td>iCRJl6heRkivqQ3</td>\n",
       "      <td>7</td>\n",
       "      <td>7</td>\n",
       "    </tr>\n",
       "    <tr>\n",
       "      <th>7</th>\n",
       "      <td>uHbuxQJl8lW7ozc</td>\n",
       "      <td>8</td>\n",
       "      <td>8</td>\n",
       "    </tr>\n",
       "    <tr>\n",
       "      <th>8</th>\n",
       "      <td>zVJPv84UY57bAof</td>\n",
       "      <td>9</td>\n",
       "      <td>9</td>\n",
       "    </tr>\n",
       "    <tr>\n",
       "      <th>9</th>\n",
       "      <td>wCURE6d3bPkepu2</td>\n",
       "      <td>10</td>\n",
       "      <td>10</td>\n",
       "    </tr>\n",
       "    <tr>\n",
       "      <th>10</th>\n",
       "      <td>pkci93gMrogZuBj</td>\n",
       "      <td>11</td>\n",
       "      <td>11</td>\n",
       "    </tr>\n",
       "    <tr>\n",
       "      <th>11</th>\n",
       "      <td>rGa61gmuvPhdLxV</td>\n",
       "      <td>12</td>\n",
       "      <td>12</td>\n",
       "    </tr>\n",
       "    <tr>\n",
       "      <th>12</th>\n",
       "      <td>YxYtjZvoooNbGkE</td>\n",
       "      <td>13</td>\n",
       "      <td>13</td>\n",
       "    </tr>\n",
       "    <tr>\n",
       "      <th>13</th>\n",
       "      <td>WRmjgnKYAwPKWDb</td>\n",
       "      <td>14</td>\n",
       "      <td>14</td>\n",
       "    </tr>\n",
       "    <tr>\n",
       "      <th>14</th>\n",
       "      <td>sjndEbLyjtCKgGv</td>\n",
       "      <td>15</td>\n",
       "      <td>15</td>\n",
       "    </tr>\n",
       "    <tr>\n",
       "      <th>15</th>\n",
       "      <td>zBIq5rxdHJRwDNY</td>\n",
       "      <td>16</td>\n",
       "      <td>16</td>\n",
       "    </tr>\n",
       "    <tr>\n",
       "      <th>16</th>\n",
       "      <td>7JYdWkrLSPkdwr4</td>\n",
       "      <td>17</td>\n",
       "      <td>17</td>\n",
       "    </tr>\n",
       "    <tr>\n",
       "      <th>17</th>\n",
       "      <td>ZoEaEvLYb1n2sOq</td>\n",
       "      <td>18</td>\n",
       "      <td>18</td>\n",
       "    </tr>\n",
       "    <tr>\n",
       "      <th>18</th>\n",
       "      <td>z9Y9gH1T5YWrNuG</td>\n",
       "      <td>19</td>\n",
       "      <td>19</td>\n",
       "    </tr>\n",
       "    <tr>\n",
       "      <th>19</th>\n",
       "      <td>ih0vzX44oOqAx2f</td>\n",
       "      <td>20</td>\n",
       "      <td>20</td>\n",
       "    </tr>\n",
       "    <tr>\n",
       "      <th>20</th>\n",
       "      <td>1BY6WEcLGh8j5v7</td>\n",
       "      <td>21</td>\n",
       "      <td>21</td>\n",
       "    </tr>\n",
       "    <tr>\n",
       "      <th>21</th>\n",
       "      <td>bvBOhCH3iADSZry</td>\n",
       "      <td>22</td>\n",
       "      <td>22</td>\n",
       "    </tr>\n",
       "  </tbody>\n",
       "</table>\n",
       "</div>"
      ],
      "text/plain": [
       "   Plant_1_Inverter_Source_Key  DC_Production_Rank  AC_Production_Rank\n",
       "0              adLQvlD726eNBSB                   1                   1\n",
       "1              1IF53ai7Xc0U56Y                   2                   2\n",
       "2              VHMLBKoKgIrUVDU                   3                   3\n",
       "3              3PZuoBAID5Wc2HD                   4                   4\n",
       "4              McdE0feGgRqW7Ca                   5                   5\n",
       "5              ZnxXDlPa8U1GXgE                   6                   6\n",
       "6              iCRJl6heRkivqQ3                   7                   7\n",
       "7              uHbuxQJl8lW7ozc                   8                   8\n",
       "8              zVJPv84UY57bAof                   9                   9\n",
       "9              wCURE6d3bPkepu2                  10                  10\n",
       "10             pkci93gMrogZuBj                  11                  11\n",
       "11             rGa61gmuvPhdLxV                  12                  12\n",
       "12             YxYtjZvoooNbGkE                  13                  13\n",
       "13             WRmjgnKYAwPKWDb                  14                  14\n",
       "14             sjndEbLyjtCKgGv                  15                  15\n",
       "15             zBIq5rxdHJRwDNY                  16                  16\n",
       "16             7JYdWkrLSPkdwr4                  17                  17\n",
       "17             ZoEaEvLYb1n2sOq                  18                  18\n",
       "18             z9Y9gH1T5YWrNuG                  19                  19\n",
       "19             ih0vzX44oOqAx2f                  20                  20\n",
       "20             1BY6WEcLGh8j5v7                  21                  21\n",
       "21             bvBOhCH3iADSZry                  22                  22"
      ]
     },
     "execution_count": 91,
     "metadata": {},
     "output_type": "execute_result"
    }
   ],
   "source": [
    "plant_1_dc_ac_rank = pd.DataFrame({'Plant_1_Inverter_Source_Key':index_dc_p1,'DC_Production_Rank':range(1,23,1),'AC_Production_Rank':ac_pr_per_dc_rank})\n",
    "plant_1_dc_ac_rank"
   ]
  },
  {
   "cell_type": "markdown",
   "metadata": {
    "papermill": {
     "duration": 0.060653,
     "end_time": "2020-09-24T15:42:48.851406",
     "exception": false,
     "start_time": "2020-09-24T15:42:48.790753",
     "status": "completed"
    },
    "tags": []
   },
   "source": [
    "# Plant_2\n",
    "\n",
    "**We will do same process for plant_2**"
   ]
  },
  {
   "cell_type": "code",
   "execution_count": 92,
   "metadata": {
    "execution": {
     "iopub.execute_input": "2020-09-24T15:42:48.984491Z",
     "iopub.status.busy": "2020-09-24T15:42:48.983745Z",
     "iopub.status.idle": "2020-09-24T15:42:49.001420Z",
     "shell.execute_reply": "2020-09-24T15:42:49.000770Z"
    },
    "papermill": {
     "duration": 0.089667,
     "end_time": "2020-09-24T15:42:49.001560",
     "exception": false,
     "start_time": "2020-09-24T15:42:48.911893",
     "status": "completed"
    },
    "tags": []
   },
   "outputs": [],
   "source": [
    "index_dc_p2 = plant_2_generation.groupby(['SOURCE_KEY']).DC_POWER.sum().sort_values(ascending=False).index\n",
    "index_ac_p2 = plant_2_generation.groupby(['SOURCE_KEY']).AC_POWER.sum().sort_values(ascending=False).index"
   ]
  },
  {
   "cell_type": "code",
   "execution_count": 93,
   "metadata": {
    "execution": {
     "iopub.execute_input": "2020-09-24T15:42:49.132346Z",
     "iopub.status.busy": "2020-09-24T15:42:49.131254Z",
     "iopub.status.idle": "2020-09-24T15:42:49.135668Z",
     "shell.execute_reply": "2020-09-24T15:42:49.134840Z"
    },
    "papermill": {
     "duration": 0.073581,
     "end_time": "2020-09-24T15:42:49.135811",
     "exception": false,
     "start_time": "2020-09-24T15:42:49.062230",
     "status": "completed"
    },
    "tags": []
   },
   "outputs": [
    {
     "data": {
      "text/plain": [
       "[1, 2, 3, 4, 5, 6, 7, 8, 9, 10, 11, 12, 13, 14, 15, 16, 17, 18, 19, 20, 21, 22]"
      ]
     },
     "execution_count": 93,
     "metadata": {},
     "output_type": "execute_result"
    }
   ],
   "source": [
    "ac_dict_p2 = dict()\n",
    "for i,j in zip(index_dc_p2,range(1,23,1)):\n",
    "    ac_dict_p2[i] = j\n",
    "ac_pr_per_dc_rank_p2 = []\n",
    "for i in index_dc_p2:\n",
    "    ac_pr_per_dc_rank_p2.append(ac_dict_p2[i])\n",
    "ac_pr_per_dc_rank_p2"
   ]
  },
  {
   "cell_type": "code",
   "execution_count": 94,
   "metadata": {
    "execution": {
     "iopub.execute_input": "2020-09-24T15:42:49.275768Z",
     "iopub.status.busy": "2020-09-24T15:42:49.274977Z",
     "iopub.status.idle": "2020-09-24T15:42:49.279781Z",
     "shell.execute_reply": "2020-09-24T15:42:49.279083Z"
    },
    "papermill": {
     "duration": 0.081356,
     "end_time": "2020-09-24T15:42:49.279898",
     "exception": false,
     "start_time": "2020-09-24T15:42:49.198542",
     "status": "completed"
    },
    "tags": []
   },
   "outputs": [
    {
     "data": {
      "text/html": [
       "<div>\n",
       "<style scoped>\n",
       "    .dataframe tbody tr th:only-of-type {\n",
       "        vertical-align: middle;\n",
       "    }\n",
       "\n",
       "    .dataframe tbody tr th {\n",
       "        vertical-align: top;\n",
       "    }\n",
       "\n",
       "    .dataframe thead th {\n",
       "        text-align: right;\n",
       "    }\n",
       "</style>\n",
       "<table border=\"1\" class=\"dataframe\">\n",
       "  <thead>\n",
       "    <tr style=\"text-align: right;\">\n",
       "      <th></th>\n",
       "      <th>Plant_2_Inverter_Source_Key</th>\n",
       "      <th>DC_Production_Rank</th>\n",
       "      <th>AC_Production_Rank</th>\n",
       "    </tr>\n",
       "  </thead>\n",
       "  <tbody>\n",
       "    <tr>\n",
       "      <th>0</th>\n",
       "      <td>Mx2yZCDsyf6DPfv</td>\n",
       "      <td>1</td>\n",
       "      <td>1</td>\n",
       "    </tr>\n",
       "    <tr>\n",
       "      <th>1</th>\n",
       "      <td>Qf4GUc1pJu5T6c6</td>\n",
       "      <td>2</td>\n",
       "      <td>2</td>\n",
       "    </tr>\n",
       "    <tr>\n",
       "      <th>2</th>\n",
       "      <td>4UPUqMRk7TRMgml</td>\n",
       "      <td>3</td>\n",
       "      <td>3</td>\n",
       "    </tr>\n",
       "    <tr>\n",
       "      <th>3</th>\n",
       "      <td>oZ35aAeoifZaQzV</td>\n",
       "      <td>4</td>\n",
       "      <td>4</td>\n",
       "    </tr>\n",
       "    <tr>\n",
       "      <th>4</th>\n",
       "      <td>V94E5Ben1TlhnDV</td>\n",
       "      <td>5</td>\n",
       "      <td>5</td>\n",
       "    </tr>\n",
       "    <tr>\n",
       "      <th>5</th>\n",
       "      <td>vOuJvMaM2sgwLmb</td>\n",
       "      <td>6</td>\n",
       "      <td>6</td>\n",
       "    </tr>\n",
       "    <tr>\n",
       "      <th>6</th>\n",
       "      <td>oZZkBaNadn6DNKz</td>\n",
       "      <td>7</td>\n",
       "      <td>7</td>\n",
       "    </tr>\n",
       "    <tr>\n",
       "      <th>7</th>\n",
       "      <td>PeE6FRyGXUgsRhN</td>\n",
       "      <td>8</td>\n",
       "      <td>8</td>\n",
       "    </tr>\n",
       "    <tr>\n",
       "      <th>8</th>\n",
       "      <td>LlT2YUhhzqhg5Sw</td>\n",
       "      <td>9</td>\n",
       "      <td>9</td>\n",
       "    </tr>\n",
       "    <tr>\n",
       "      <th>9</th>\n",
       "      <td>WcxssY2VbP4hApt</td>\n",
       "      <td>10</td>\n",
       "      <td>10</td>\n",
       "    </tr>\n",
       "    <tr>\n",
       "      <th>10</th>\n",
       "      <td>9kRcWv60rDACzjR</td>\n",
       "      <td>11</td>\n",
       "      <td>11</td>\n",
       "    </tr>\n",
       "    <tr>\n",
       "      <th>11</th>\n",
       "      <td>xoJJ8DcxJEcupym</td>\n",
       "      <td>12</td>\n",
       "      <td>12</td>\n",
       "    </tr>\n",
       "    <tr>\n",
       "      <th>12</th>\n",
       "      <td>81aHJ1q11NBPMrL</td>\n",
       "      <td>13</td>\n",
       "      <td>13</td>\n",
       "    </tr>\n",
       "    <tr>\n",
       "      <th>13</th>\n",
       "      <td>q49J1IKaHRwDQnt</td>\n",
       "      <td>14</td>\n",
       "      <td>14</td>\n",
       "    </tr>\n",
       "    <tr>\n",
       "      <th>14</th>\n",
       "      <td>rrq4fwE8jgrTyWY</td>\n",
       "      <td>15</td>\n",
       "      <td>15</td>\n",
       "    </tr>\n",
       "    <tr>\n",
       "      <th>15</th>\n",
       "      <td>IQ2d7wF4YD8zU1Q</td>\n",
       "      <td>16</td>\n",
       "      <td>16</td>\n",
       "    </tr>\n",
       "    <tr>\n",
       "      <th>16</th>\n",
       "      <td>xMbIugepa2P7lBB</td>\n",
       "      <td>17</td>\n",
       "      <td>17</td>\n",
       "    </tr>\n",
       "    <tr>\n",
       "      <th>17</th>\n",
       "      <td>mqwcsP2rE7J0TFp</td>\n",
       "      <td>18</td>\n",
       "      <td>18</td>\n",
       "    </tr>\n",
       "    <tr>\n",
       "      <th>18</th>\n",
       "      <td>NgDl19wMapZy17u</td>\n",
       "      <td>19</td>\n",
       "      <td>19</td>\n",
       "    </tr>\n",
       "    <tr>\n",
       "      <th>19</th>\n",
       "      <td>LYwnQax7tkwH5Cb</td>\n",
       "      <td>20</td>\n",
       "      <td>20</td>\n",
       "    </tr>\n",
       "    <tr>\n",
       "      <th>20</th>\n",
       "      <td>Et9kgGMDl729KT4</td>\n",
       "      <td>21</td>\n",
       "      <td>21</td>\n",
       "    </tr>\n",
       "    <tr>\n",
       "      <th>21</th>\n",
       "      <td>Quc1TzYxW2pYoWX</td>\n",
       "      <td>22</td>\n",
       "      <td>22</td>\n",
       "    </tr>\n",
       "  </tbody>\n",
       "</table>\n",
       "</div>"
      ],
      "text/plain": [
       "   Plant_2_Inverter_Source_Key  DC_Production_Rank  AC_Production_Rank\n",
       "0              Mx2yZCDsyf6DPfv                   1                   1\n",
       "1              Qf4GUc1pJu5T6c6                   2                   2\n",
       "2              4UPUqMRk7TRMgml                   3                   3\n",
       "3              oZ35aAeoifZaQzV                   4                   4\n",
       "4              V94E5Ben1TlhnDV                   5                   5\n",
       "5              vOuJvMaM2sgwLmb                   6                   6\n",
       "6              oZZkBaNadn6DNKz                   7                   7\n",
       "7              PeE6FRyGXUgsRhN                   8                   8\n",
       "8              LlT2YUhhzqhg5Sw                   9                   9\n",
       "9              WcxssY2VbP4hApt                  10                  10\n",
       "10             9kRcWv60rDACzjR                  11                  11\n",
       "11             xoJJ8DcxJEcupym                  12                  12\n",
       "12             81aHJ1q11NBPMrL                  13                  13\n",
       "13             q49J1IKaHRwDQnt                  14                  14\n",
       "14             rrq4fwE8jgrTyWY                  15                  15\n",
       "15             IQ2d7wF4YD8zU1Q                  16                  16\n",
       "16             xMbIugepa2P7lBB                  17                  17\n",
       "17             mqwcsP2rE7J0TFp                  18                  18\n",
       "18             NgDl19wMapZy17u                  19                  19\n",
       "19             LYwnQax7tkwH5Cb                  20                  20\n",
       "20             Et9kgGMDl729KT4                  21                  21\n",
       "21             Quc1TzYxW2pYoWX                  22                  22"
      ]
     },
     "execution_count": 94,
     "metadata": {},
     "output_type": "execute_result"
    }
   ],
   "source": [
    "plant_2_dc_ac_rank = pd.DataFrame({'Plant_2_Inverter_Source_Key':index_dc_p2,'DC_Production_Rank':range(1,23,1),'AC_Production_Rank':ac_pr_per_dc_rank_p2})\n",
    "plant_2_dc_ac_rank"
   ]
  },
  {
   "cell_type": "markdown",
   "metadata": {
    "papermill": {
     "duration": 0.062207,
     "end_time": "2020-09-24T15:42:49.404521",
     "exception": false,
     "start_time": "2020-09-24T15:42:49.342314",
     "status": "completed"
    },
    "tags": []
   },
   "source": [
    "# Q7. Is there any missing data?\n",
    "\n",
    ">We will see percentage of Missing or NaN in each column of each dataframe"
   ]
  },
  {
   "cell_type": "code",
   "execution_count": 95,
   "metadata": {
    "execution": {
     "iopub.execute_input": "2020-09-24T15:42:49.542891Z",
     "iopub.status.busy": "2020-09-24T15:42:49.540797Z",
     "iopub.status.idle": "2020-09-24T15:42:49.635772Z",
     "shell.execute_reply": "2020-09-24T15:42:49.634872Z"
    },
    "papermill": {
     "duration": 0.169295,
     "end_time": "2020-09-24T15:42:49.635975",
     "exception": false,
     "start_time": "2020-09-24T15:42:49.466680",
     "status": "completed"
    },
    "tags": []
   },
   "outputs": [
    {
     "name": "stdout",
     "output_type": "stream",
     "text": [
      "*******************Plant_1_Sensor*****************\n",
      "DATE_TIME              0.0\n",
      "PLANT_ID               0.0\n",
      "SOURCE_KEY             0.0\n",
      "AMBIENT_TEMPERATURE    0.0\n",
      "MODULE_TEMPERATURE     0.0\n",
      "IRRADIATION            0.0\n",
      "DATE                   0.0\n",
      "YEAR                   0.0\n",
      "MONTH                  0.0\n",
      "DAY                    0.0\n",
      "dtype: float64\n",
      "*******************Plant_1_Generation*****************\n",
      "DATE_TIME      0.0\n",
      "PLANT_ID       0.0\n",
      "SOURCE_KEY     0.0\n",
      "DC_POWER       0.0\n",
      "AC_POWER       0.0\n",
      "DAILY_YIELD    0.0\n",
      "TOTAL_YIELD    0.0\n",
      "DATE           0.0\n",
      "YEAR           0.0\n",
      "MONTH          0.0\n",
      "DAY            0.0\n",
      "dtype: float64\n",
      "*******************Plant_2_Sensor*****************\n",
      "DATE_TIME              0.0\n",
      "PLANT_ID               0.0\n",
      "SOURCE_KEY             0.0\n",
      "AMBIENT_TEMPERATURE    0.0\n",
      "MODULE_TEMPERATURE     0.0\n",
      "IRRADIATION            0.0\n",
      "DATE                   0.0\n",
      "YEAR                   0.0\n",
      "MONTH                  0.0\n",
      "DAY                    0.0\n",
      "dtype: float64\n",
      "*******************Plant_2_Generation*****************\n",
      "DATE_TIME      0.0\n",
      "PLANT_ID       0.0\n",
      "SOURCE_KEY     0.0\n",
      "DC_POWER       0.0\n",
      "AC_POWER       0.0\n",
      "DAILY_YIELD    0.0\n",
      "TOTAL_YIELD    0.0\n",
      "DATE           0.0\n",
      "YEAR           0.0\n",
      "MONTH          0.0\n",
      "DAY            0.0\n",
      "dtype: float64\n"
     ]
    }
   ],
   "source": [
    "print(\"*******************Plant_1_Sensor*****************\")\n",
    "print(plant_1_sensor.isna().sum()/plant_1_sensor.shape[0]*100)\n",
    "print(\"*******************Plant_1_Generation*****************\")\n",
    "print(plant_1_generation.isna().sum()/plant_1_generation.shape[0]*100)\n",
    "print(\"*******************Plant_2_Sensor*****************\")\n",
    "print(plant_2_sensor.isna().sum()/plant_2_sensor.shape[0]*100)\n",
    "print(\"*******************Plant_2_Generation*****************\")\n",
    "print(plant_2_generation.isna().sum()/plant_2_generation.shape[0]*100)"
   ]
  },
  {
   "cell_type": "markdown",
   "metadata": {
    "papermill": {
     "duration": 0.062694,
     "end_time": "2020-09-24T15:42:49.767569",
     "exception": false,
     "start_time": "2020-09-24T15:42:49.704875",
     "status": "completed"
    },
    "tags": []
   },
   "source": [
    "**For more projects please follow me at :https://github.com/manubungei**\n",
    "\n",
    "# Thank You :)"
   ]
  },
  {
   "cell_type": "code",
   "execution_count": null,
   "metadata": {},
   "outputs": [],
   "source": []
  }
 ],
 "metadata": {
  "kernelspec": {
   "display_name": "Python 3",
   "language": "python",
   "name": "python3"
  },
  "language_info": {
   "codemirror_mode": {
    "name": "ipython",
    "version": 3
   },
   "file_extension": ".py",
   "mimetype": "text/x-python",
   "name": "python",
   "nbconvert_exporter": "python",
   "pygments_lexer": "ipython3",
   "version": "3.7.6"
  },
  "papermill": {
   "duration": 18.739943,
   "end_time": "2020-09-24T15:42:49.979572",
   "environment_variables": {},
   "exception": null,
   "input_path": "__notebook__.ipynb",
   "output_path": "__notebook__.ipynb",
   "parameters": {},
   "start_time": "2020-09-24T15:42:31.239629",
   "version": "2.1.0"
  }
 },
 "nbformat": 4,
 "nbformat_minor": 4
}
